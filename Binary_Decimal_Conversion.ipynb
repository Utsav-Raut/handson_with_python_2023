{
 "cells": [
  {
   "cell_type": "code",
   "execution_count": 68,
   "id": "bcf56ae8-3ddf-49cb-8aa2-97330b285bd5",
   "metadata": {},
   "outputs": [],
   "source": [
    "def flipping_bits(n):\n",
    "#     CONVERT DECIMAL TO BINARY 32 BITS\n",
    "    binary = ''\n",
    "    if(n > 0):\n",
    "        while(n > 0):\n",
    "            rem = n % 2\n",
    "            binary = binary + str(rem)\n",
    "            n = n // 2\n",
    "        binary = binary.ljust(32, '0')\n",
    "        binary = binary[::-1]\n",
    "    elif(n == 0):\n",
    "        binary = 32*\"0\"\n",
    "    else:\n",
    "        return\n",
    "    \n",
    "#     FLIP THE BITS\n",
    "    converted_binary = ''\n",
    "    for i in range(0, len(binary)):\n",
    "        if binary[i] == '1':\n",
    "            converted_binary = converted_binary + binary[i].replace(\"1\", \"0\")\n",
    "        else:\n",
    "            binary[i] == '0'\n",
    "            converted_binary = converted_binary + binary[i].replace(\"0\", \"1\")\n",
    "    converted_binary = int(converted_binary)\n",
    "    decimal, i = 0, 0\n",
    "    while(converted_binary > 0):\n",
    "        rem = converted_binary % 10\n",
    "        decimal = decimal + rem * pow(2, i)\n",
    "        i = i + 1\n",
    "        converted_binary = converted_binary // 10\n",
    "    return decimal\n",
    "    \n",
    "    "
   ]
  },
  {
   "cell_type": "code",
   "execution_count": 69,
   "id": "7c2da10b-e93b-484d-8e99-8e2846a7d803",
   "metadata": {},
   "outputs": [
    {
     "name": "stdout",
     "output_type": "stream",
     "text": [
      "2147483648\n"
     ]
    }
   ],
   "source": [
    "print(flipping_bits(2147483647))"
   ]
  },
  {
   "cell_type": "code",
   "execution_count": null,
   "id": "382b589f-8b01-4a0b-9aa3-cdbda1161fb0",
   "metadata": {},
   "outputs": [],
   "source": []
  }
 ],
 "metadata": {
  "kernelspec": {
   "display_name": "Python 3 (ipykernel)",
   "language": "python",
   "name": "python3"
  },
  "language_info": {
   "codemirror_mode": {
    "name": "ipython",
    "version": 3
   },
   "file_extension": ".py",
   "mimetype": "text/x-python",
   "name": "python",
   "nbconvert_exporter": "python",
   "pygments_lexer": "ipython3",
   "version": "3.10.9"
  }
 },
 "nbformat": 4,
 "nbformat_minor": 5
}
