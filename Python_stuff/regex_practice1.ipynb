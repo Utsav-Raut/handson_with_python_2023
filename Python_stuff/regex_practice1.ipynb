{
 "cells": [
  {
   "cell_type": "code",
   "execution_count": 1,
   "id": "c988a4f7-a711-4c38-8708-be1df09b265c",
   "metadata": {},
   "outputs": [],
   "source": [
    "import re"
   ]
  },
  {
   "cell_type": "code",
   "execution_count": 2,
   "id": "9ec3ee0f-9ea1-459f-901c-3e876b730626",
   "metadata": {},
   "outputs": [],
   "source": [
    "regex = r\"([A-Za-z]+) (\\d+)\""
   ]
  },
  {
   "cell_type": "code",
   "execution_count": 7,
   "id": "cd173b4b-6ed8-42b1-903e-35ef4dc30ffb",
   "metadata": {},
   "outputs": [
    {
     "name": "stdout",
     "output_type": "stream",
     "text": [
      "Match at index 0, 7\n",
      "Full match : June 24 \n",
      "Month match : June \n",
      "Date match : 24 \n"
     ]
    }
   ],
   "source": [
    "if re.search(regex, \"June 24\"):\n",
    "    match = re.search(regex, \"June 24\")\n",
    "    print(\"Match at index %s, %s\" %(match.start(), match.end()))\n",
    "    \n",
    "    print(\"Full match : %s \"%(match.group()))\n",
    "    print(\"Month match : %s \"%(match.group(1)))\n",
    "    print(\"Date match : %s \"%(match.group(2)))\n",
    "else:\n",
    "    print(\"The regex pattern doesn't match.\")"
   ]
  },
  {
   "cell_type": "code",
   "execution_count": 8,
   "id": "d32332cf-1c27-4baa-84db-9cb2b8c1ee6c",
   "metadata": {},
   "outputs": [],
   "source": [
    "# Example 2"
   ]
  },
  {
   "cell_type": "code",
   "execution_count": 9,
   "id": "25862a84-3e2d-4466-b817-a723b7413d2a",
   "metadata": {},
   "outputs": [],
   "source": [
    "regex = r\"[A-Za-z]+ \\d+\""
   ]
  },
  {
   "cell_type": "code",
   "execution_count": 10,
   "id": "8172ef5c-ebf5-48f7-bf3c-1faa147d5124",
   "metadata": {},
   "outputs": [],
   "source": [
    "matches = re.findall(regex, \"June 24, August 9, Dec 21\")"
   ]
  },
  {
   "cell_type": "code",
   "execution_count": 12,
   "id": "606ec12a-9841-41da-acbb-cec058b4f869",
   "metadata": {},
   "outputs": [
    {
     "name": "stdout",
     "output_type": "stream",
     "text": [
      "Full match :  June 24\n",
      "Full match :  August 9\n",
      "Full match :  Dec 21\n"
     ]
    }
   ],
   "source": [
    "for match in matches:\n",
    "    print(\"Full match : \",match)"
   ]
  },
  {
   "cell_type": "code",
   "execution_count": 13,
   "id": "b3fbef8a-9e17-447c-bf23-a7b8da4195fd",
   "metadata": {},
   "outputs": [],
   "source": [
    "# To capture the specific months of each date we can use the following pattern\n",
    "\n",
    "regex = r\"([A-Za-z]+) \\d+\""
   ]
  },
  {
   "cell_type": "code",
   "execution_count": 14,
   "id": "a9fab0fb-11a9-4393-8233-91802a6a9ab8",
   "metadata": {},
   "outputs": [
    {
     "name": "stdout",
     "output_type": "stream",
     "text": [
      "Full match :  June\n",
      "Full match :  August\n",
      "Full match :  Dec\n"
     ]
    }
   ],
   "source": [
    "matches = re.findall(regex, \"June 24, August 9, Dec 21\")\n",
    "for match in matches:\n",
    "    print(\"Full match : \",match)"
   ]
  },
  {
   "cell_type": "code",
   "execution_count": 15,
   "id": "1b6a9ff3-8ccd-4493-a6c0-50ce184494a0",
   "metadata": {},
   "outputs": [],
   "source": [
    "# If we need the exact positions of each match\n",
    "regex = r\"([A-Za-z]+) \\d+\""
   ]
  },
  {
   "cell_type": "code",
   "execution_count": 16,
   "id": "985088eb-7bfd-4e04-a7bd-cee6fc035118",
   "metadata": {},
   "outputs": [
    {
     "name": "stdout",
     "output_type": "stream",
     "text": [
      "Match at index : 0, 7 \n",
      "Match at index : 9, 17 \n"
     ]
    }
   ],
   "source": [
    "matches = re.finditer(regex, \"June 24, August 9, Dec21\")\n",
    "for match in matches:\n",
    "    print(\"Match at index : %s, %s \"%(match.start(), match.end()))"
   ]
  },
  {
   "cell_type": "code",
   "execution_count": 17,
   "id": "f2fed2b0-b23a-4cc6-ba1e-a9ca11cc55e2",
   "metadata": {},
   "outputs": [],
   "source": [
    "# Example 3"
   ]
  },
  {
   "cell_type": "code",
   "execution_count": 18,
   "id": "246acb90-5455-49df-8ac2-d32d69e5eff5",
   "metadata": {},
   "outputs": [
    {
     "name": "stdout",
     "output_type": "stream",
     "text": [
      "24 of June, 9 of August, 12 of Dec\n"
     ]
    }
   ],
   "source": [
    "# Lets try and reverse the order of the day and month in a date \n",
    "# string. Notice how the replacement string also contains metacharacters\n",
    "# (the back references to the captured groups) so we use a raw \n",
    "# string for that as well.\n",
    "regex = r\"([a-zA-Z]+) (\\d+)\"\n",
    "\n",
    "# This will reorder the string and print:\n",
    "#   24 of June, 9 of August, 12 of Dec\n",
    "print(re.sub(regex, r\"\\2 of \\1\", \"June 24, August 9, Dec 12\"))"
   ]
  },
  {
   "cell_type": "code",
   "execution_count": 19,
   "id": "19a7c2f7-351d-499f-b93a-d9a2e2ae6920",
   "metadata": {},
   "outputs": [],
   "source": [
    "# Example 4"
   ]
  },
  {
   "cell_type": "code",
   "execution_count": 20,
   "id": "1f8e947e-1f14-48f8-b7c6-93a5b6cf6950",
   "metadata": {},
   "outputs": [
    {
     "name": "stdout",
     "output_type": "stream",
     "text": [
      "0 11\n",
      "Hello\n",
      "Bonjour\n",
      "Hello Earth\n"
     ]
    }
   ],
   "source": [
    "# Lets create a pattern and extract some information with it\n",
    "regex = re.compile(r\"(\\w+) World\")\n",
    "result = regex.search(\"Hello World is the easiest\")\n",
    "if result:\n",
    "    # This will print:\n",
    "    #   0 11\n",
    "    # for the start and end of the match\n",
    "    print(result.start(), result.end())\n",
    "\n",
    "# This will print:\n",
    "#   Hello\n",
    "#   Bonjour\n",
    "# for each of the captured groups that matched\n",
    "for result in regex.findall(\"Hello World, Bonjour World\"):\n",
    "    print(result)\n",
    "\n",
    "# This will substitute \"World\" with \"Earth\" and print:\n",
    "#   Hello Earth\n",
    "print(regex.sub(r\"\\1 Earth\", \"Hello World\"))"
   ]
  },
  {
   "cell_type": "code",
   "execution_count": 21,
   "id": "fcf4be84-7dfb-4466-be99-b7e34f23c41a",
   "metadata": {},
   "outputs": [],
   "source": [
    "# https://regexone.com/references/python"
   ]
  },
  {
   "cell_type": "code",
   "execution_count": 22,
   "id": "f00b7d75-216b-4e6d-b665-c15be5473e5c",
   "metadata": {},
   "outputs": [],
   "source": [
    "# From geeks for geeks"
   ]
  },
  {
   "cell_type": "code",
   "execution_count": 23,
   "id": "9ef34dae-1ffb-4f18-80eb-e9bf492acfc1",
   "metadata": {},
   "outputs": [
    {
     "name": "stdout",
     "output_type": "stream",
     "text": [
      "['123456789', '987654321']\n"
     ]
    }
   ],
   "source": [
    "# A sample text string where regular expression  \n",
    "# is searched. \n",
    "string = \"\"\"Hello my Number is 123456789 and \n",
    "             my friend's number is 987654321\"\"\"\n",
    "    \n",
    "# A sample regular expression to find digits. \n",
    "regex = '\\d+'             \n",
    "    \n",
    "match = re.findall(regex, string) \n",
    "print(match) "
   ]
  },
  {
   "cell_type": "code",
   "execution_count": 24,
   "id": "8cbb6fdb-5e92-4417-b346-b4a89329a580",
   "metadata": {},
   "outputs": [
    {
     "name": "stdout",
     "output_type": "stream",
     "text": [
      "Match at index 14, 21\n",
      "Full match: June 24\n",
      "Month: June\n",
      "Day: 24\n"
     ]
    }
   ],
   "source": [
    "# Lets use a regular expression to match a date string \n",
    "# in the form of Month name followed by day number \n",
    "regex = r\"([a-zA-Z]+) (\\d+)\"\n",
    "    \n",
    "match = re.search(regex, \"I was born on June 24\") \n",
    "    \n",
    "if match != None: \n",
    "    \n",
    "    # We reach here when the expression \"([a-zA-Z]+) (\\d+)\" \n",
    "    # matches the date string. \n",
    "    \n",
    "    # This will print [14, 21), since it matches at index 14 \n",
    "    # and ends at 21.  \n",
    "    print(\"Match at index % s, % s\" % (match.start(), match.end()))\n",
    "    \n",
    "    # We us group() method to get all the matches and \n",
    "    # captured groups. The groups contain the matched values. \n",
    "    # In particular: \n",
    "    # match.group(0) always returns the fully matched string \n",
    "    # match.group(1) match.group(2), ... return the capture \n",
    "    # groups in order from left to right in the input string \n",
    "    # match.group() is equivalent to match.group(0) \n",
    "    \n",
    "    # So this will print \"June 24\" \n",
    "    print(\"Full match: % s\" % (match.group(0)))\n",
    "    \n",
    "    # So this will print \"June\" \n",
    "    print(\"Month: % s\" % (match.group(1)))\n",
    "    \n",
    "    # So this will print \"24\" \n",
    "    print(\"Day: % s\" % (match.group(2)))\n",
    "    \n",
    "else: \n",
    "    print(\"The regex pattern does not match.\")"
   ]
  },
  {
   "cell_type": "code",
   "execution_count": 25,
   "id": "fbc20ffa-bd96-47fe-be69-325496c9a047",
   "metadata": {},
   "outputs": [],
   "source": [
    "# There are a total of 14 metacharacters and will be discussed as they follow into functions:\n",
    "\n",
    "# \\   Used to drop the special meaning of character\n",
    "#     following it (discussed below)\n",
    "# []  Represent a character class\n",
    "# ^   Matches the beginning\n",
    "# $   Matches the end\n",
    "# .   Matches any character except newline\n",
    "# ?   Matches zero or one occurrence.\n",
    "# |   Means OR (Matches with any of the characters\n",
    "#     separated by it.\n",
    "# *   Any number of occurrences (including 0 occurrences)\n",
    "# +   One or more occurrences\n",
    "# {}  Indicate number of occurrences of a preceding RE \n",
    "#     to match.\n",
    "# ()  Enclose a group of REs"
   ]
  },
  {
   "cell_type": "code",
   "execution_count": null,
   "id": "a67aad68-f2ca-4d9a-8ea0-5dac2567441d",
   "metadata": {},
   "outputs": [],
   "source": []
  }
 ],
 "metadata": {
  "kernelspec": {
   "display_name": "Python 3 (ipykernel)",
   "language": "python",
   "name": "python3"
  },
  "language_info": {
   "codemirror_mode": {
    "name": "ipython",
    "version": 3
   },
   "file_extension": ".py",
   "mimetype": "text/x-python",
   "name": "python",
   "nbconvert_exporter": "python",
   "pygments_lexer": "ipython3",
   "version": "3.10.9"
  }
 },
 "nbformat": 4,
 "nbformat_minor": 5
}
