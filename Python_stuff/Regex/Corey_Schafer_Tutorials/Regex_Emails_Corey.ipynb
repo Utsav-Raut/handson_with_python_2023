{
 "cells": [
  {
   "cell_type": "code",
   "execution_count": 1,
   "id": "6c3b6dd7-1cc1-484b-9c54-df574db4fd1d",
   "metadata": {},
   "outputs": [],
   "source": [
    "import re"
   ]
  },
  {
   "cell_type": "code",
   "execution_count": 2,
   "id": "920dd3b4-4e17-4383-95b0-e48bd5a0e9bd",
   "metadata": {},
   "outputs": [],
   "source": [
    "emails = '''\n",
    "CoreyMSchafer@gmail.com\n",
    "corey.schafer@university.edu\n",
    "corey-321-schafer@my-work.net\n",
    "'''"
   ]
  },
  {
   "cell_type": "code",
   "execution_count": 3,
   "id": "b24257d0-7587-4129-91e2-f2f483ca4ea5",
   "metadata": {},
   "outputs": [
    {
     "name": "stdout",
     "output_type": "stream",
     "text": [
      "<re.Match object; span=(1, 24), match='CoreyMSchafer@gmail.com'>\n"
     ]
    }
   ],
   "source": [
    "pattern = re.compile(r\"[a-zA-Z]+@[a-zA-Z]+\\.com\")\n",
    "matches = pattern.finditer(emails)\n",
    "for match in matches:\n",
    "    print(match)"
   ]
  },
  {
   "cell_type": "code",
   "execution_count": 4,
   "id": "d28b41af-ffcf-4d42-9fe2-f68ce54272d8",
   "metadata": {},
   "outputs": [
    {
     "name": "stdout",
     "output_type": "stream",
     "text": [
      "<re.Match object; span=(1, 24), match='CoreyMSchafer@gmail.com'>\n",
      "<re.Match object; span=(25, 53), match='corey.schafer@university.edu'>\n"
     ]
    }
   ],
   "source": [
    "# We are trying to match the first two emails here. The pattern for first is in above cell\n",
    "pattern = re.compile(r\"[a-zA-Z.]+@[a-zA-Z]+\\.(com|edu)\")\n",
    "matches = pattern.finditer(emails)\n",
    "for match in matches:\n",
    "    print(match)"
   ]
  },
  {
   "cell_type": "code",
   "execution_count": 5,
   "id": "daa35d81-750c-4690-8b99-dc8d200f8c45",
   "metadata": {},
   "outputs": [
    {
     "name": "stdout",
     "output_type": "stream",
     "text": [
      "<re.Match object; span=(1, 24), match='CoreyMSchafer@gmail.com'>\n",
      "<re.Match object; span=(25, 53), match='corey.schafer@university.edu'>\n",
      "<re.Match object; span=(54, 83), match='corey-321-schafer@my-work.net'>\n"
     ]
    }
   ],
   "source": [
    "# We are trying to match all the two emails here\n",
    "pattern = re.compile(r\"[a-zA-Z0-9.-]+@[a-zA-Z-]+\\.(com|edu|net)\")\n",
    "matches = pattern.finditer(emails)\n",
    "for match in matches:\n",
    "    print(match)"
   ]
  },
  {
   "cell_type": "code",
   "execution_count": 6,
   "id": "203fe13c-8209-4751-ad1e-68824e1f98ae",
   "metadata": {},
   "outputs": [],
   "source": [
    "# Understanding a random regex"
   ]
  },
  {
   "cell_type": "code",
   "execution_count": null,
   "id": "2316507d-bfad-433a-96c4-e0bbccc4efbd",
   "metadata": {},
   "outputs": [],
   "source": [
    "#### Sample Regexs ####\n",
    "\n",
    "[a-zA-Z0-9_.+-]+@[a-zA-Z0-9-]+\\.[a-zA-Z0-9-.]+"
   ]
  }
 ],
 "metadata": {
  "kernelspec": {
   "display_name": "Python 3 (ipykernel)",
   "language": "python",
   "name": "python3"
  },
  "language_info": {
   "codemirror_mode": {
    "name": "ipython",
    "version": 3
   },
   "file_extension": ".py",
   "mimetype": "text/x-python",
   "name": "python",
   "nbconvert_exporter": "python",
   "pygments_lexer": "ipython3",
   "version": "3.10.9"
  }
 },
 "nbformat": 4,
 "nbformat_minor": 5
}
