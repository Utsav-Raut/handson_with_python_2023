{
 "cells": [
  {
   "cell_type": "code",
   "execution_count": 1,
   "id": "e7700357-3485-4faf-9f15-fdd7461ab1fb",
   "metadata": {},
   "outputs": [],
   "source": [
    "import re"
   ]
  },
  {
   "cell_type": "code",
   "execution_count": 2,
   "id": "97860247-c825-4d31-836e-7c0156d44bfc",
   "metadata": {},
   "outputs": [],
   "source": [
    "urls = '''\n",
    "https://www.google.com\n",
    "http://coreyms.com\n",
    "https://youtube.com\n",
    "https://www.nasa.gov\n",
    "'''"
   ]
  },
  {
   "cell_type": "code",
   "execution_count": 3,
   "id": "b7613fd6-9b66-4473-8381-0be8fd7d0b42",
   "metadata": {},
   "outputs": [
    {
     "name": "stdout",
     "output_type": "stream",
     "text": [
      "<re.Match object; span=(1, 23), match='https://www.google.com'>\n",
      "<re.Match object; span=(24, 42), match='http://coreyms.com'>\n",
      "<re.Match object; span=(43, 62), match='https://youtube.com'>\n",
      "<re.Match object; span=(63, 83), match='https://www.nasa.gov'>\n"
     ]
    }
   ],
   "source": [
    "pattern = re.compile(r\"https?://(www.)?\\w+\\.\\w+\")\n",
    "matches = pattern.finditer(urls)\n",
    "for match in matches:\n",
    "    print(match)"
   ]
  },
  {
   "cell_type": "code",
   "execution_count": 4,
   "id": "24c7cfd4-e347-454c-8fc4-7f7030aa442d",
   "metadata": {},
   "outputs": [
    {
     "name": "stdout",
     "output_type": "stream",
     "text": [
      "<re.Match object; span=(1, 23), match='https://www.google.com'>\n",
      "<re.Match object; span=(24, 42), match='http://coreyms.com'>\n",
      "<re.Match object; span=(43, 62), match='https://youtube.com'>\n",
      "<re.Match object; span=(63, 83), match='https://www.nasa.gov'>\n"
     ]
    }
   ],
   "source": [
    "# Let's capture the domain(google/nasa) and top level domain(com/gov/org) using groups\n",
    "\n",
    "pattern = re.compile(r\"https?://(www.)?(\\w+)(\\.\\w+)\")\n",
    "matches = pattern.finditer(urls)\n",
    "for match in matches:\n",
    "    print(match)"
   ]
  },
  {
   "cell_type": "code",
   "execution_count": 5,
   "id": "784f2647-96f8-4be1-a8bb-3731f924f478",
   "metadata": {},
   "outputs": [],
   "source": [
    "# Above we have 3 groups:\n",
    "# (www.) , (\\w+), (\\.\\w+)\n",
    "# There is group zero, and it is everything that we captured"
   ]
  },
  {
   "cell_type": "code",
   "execution_count": 6,
   "id": "bddfddb1-299d-46f2-b374-f880157ddde9",
   "metadata": {},
   "outputs": [
    {
     "name": "stdout",
     "output_type": "stream",
     "text": [
      "https://www.google.com\n",
      "http://coreyms.com\n",
      "https://youtube.com\n",
      "https://www.nasa.gov\n"
     ]
    }
   ],
   "source": [
    "pattern = re.compile(r\"https?://(www.)?(\\w+)(\\.\\w+)\")\n",
    "matches = pattern.finditer(urls)\n",
    "for match in matches:\n",
    "    print(match.group(0))"
   ]
  },
  {
   "cell_type": "code",
   "execution_count": 7,
   "id": "923dff90-d5fa-43c4-bb4b-d034357c35a1",
   "metadata": {},
   "outputs": [
    {
     "name": "stdout",
     "output_type": "stream",
     "text": [
      "www.\n",
      "None\n",
      "None\n",
      "www.\n"
     ]
    }
   ],
   "source": [
    "pattern = re.compile(r\"https?://(www.)?(\\w+)(\\.\\w+)\")\n",
    "matches = pattern.finditer(urls)\n",
    "for match in matches:\n",
    "    print(match.group(1))"
   ]
  },
  {
   "cell_type": "code",
   "execution_count": 8,
   "id": "aaf1425f-cb01-4d44-ae58-e8f15ede59eb",
   "metadata": {},
   "outputs": [
    {
     "name": "stdout",
     "output_type": "stream",
     "text": [
      "google\n",
      "coreyms\n",
      "youtube\n",
      "nasa\n"
     ]
    }
   ],
   "source": [
    "pattern = re.compile(r\"https?://(www.)?(\\w+)(\\.\\w+)\")\n",
    "matches = pattern.finditer(urls)\n",
    "for match in matches:\n",
    "    print(match.group(2))"
   ]
  },
  {
   "cell_type": "code",
   "execution_count": 9,
   "id": "e2230d3f-5962-455a-af2b-747cac0db9de",
   "metadata": {},
   "outputs": [
    {
     "name": "stdout",
     "output_type": "stream",
     "text": [
      ".com\n",
      ".com\n",
      ".com\n",
      ".gov\n"
     ]
    }
   ],
   "source": [
    "pattern = re.compile(r\"https?://(www.)?(\\w+)(\\.\\w+)\")\n",
    "matches = pattern.finditer(urls)\n",
    "for match in matches:\n",
    "    print(match.group(3))"
   ]
  },
  {
   "cell_type": "code",
   "execution_count": 10,
   "id": "83fd2653-49d2-4a66-80dc-fbdfdc8a39af",
   "metadata": {},
   "outputs": [],
   "source": [
    "# Backreference is something used to reference our captured groups.\n",
    "# It is basically just a shorthand for accessing our group indexes."
   ]
  },
  {
   "cell_type": "code",
   "execution_count": 11,
   "id": "f725318e-f6bb-43a0-b3e1-de62e6e69662",
   "metadata": {},
   "outputs": [
    {
     "name": "stdout",
     "output_type": "stream",
     "text": [
      "\n",
      "google.com\n",
      "coreyms.com\n",
      "youtube.com\n",
      "nasa.gov\n",
      "\n"
     ]
    }
   ],
   "source": [
    "# Here we are using the patterns to substitute out group 2 and 3 for all of the matches in url.\n",
    "# Thus everytime a match is found, it would replace that with group 2 which is the domain and group 3 which is the top level domain\n",
    "subbed_urls = pattern.sub(r'\\2\\3', urls)\n",
    "print(subbed_urls)"
   ]
  },
  {
   "cell_type": "code",
   "execution_count": 12,
   "id": "6cd053ab-a3a5-4b29-b52a-dc16afb67a82",
   "metadata": {},
   "outputs": [],
   "source": [
    "# finditer method does the best job to show the matches and the locations of those matches.\n",
    "# There are some other methods as well"
   ]
  },
  {
   "cell_type": "code",
   "execution_count": 13,
   "id": "2ce45a3a-0f4b-4c91-9f4a-1955d57b92b4",
   "metadata": {},
   "outputs": [],
   "source": [
    "# finditer() returns matched objects with extra info and functionality.\n",
    "# findall() will just return the matches as a list of strings. If its matching groups then it would only return the group"
   ]
  },
  {
   "cell_type": "code",
   "execution_count": 14,
   "id": "83dda7e1-0e57-44ee-9271-969f7ce8ddcd",
   "metadata": {},
   "outputs": [],
   "source": [
    "text_to_search = '''\n",
    "abcdefghijklmnopqurtuvwxyz\n",
    "ABCDEFGHIJKLMNOPQRSTUVWXYZ\n",
    "1234567890\n",
    "\n",
    "Ha HaHa\n",
    "\n",
    "MetaCharacters (Need to be escaped):\n",
    ". ^ $ * + ? { } [ ] \\ | ( )\n",
    "\n",
    "coreyms.com\n",
    "\n",
    "321-555-4321\n",
    "123.555.1234\n",
    "123*555*1234\n",
    "800-555-1234\n",
    "900-555-1234\n",
    "\n",
    "cat\n",
    "mat\n",
    "bat\n",
    "pat\n",
    "\n",
    "Mr. Schafer\n",
    "Mr Smith\n",
    "Ms Davis\n",
    "Mrs. Robinson\n",
    "Mr. T\n",
    "'''\n",
    "\n",
    "sentence = 'Start a sentence and then bring it to an end'"
   ]
  },
  {
   "cell_type": "code",
   "execution_count": 15,
   "id": "f356ebf5-47c7-4ab9-9415-346ad62c5ed9",
   "metadata": {},
   "outputs": [
    {
     "name": "stdout",
     "output_type": "stream",
     "text": [
      "Mr\n",
      "Mr\n",
      "Ms\n",
      "Mrs\n",
      "Mr\n"
     ]
    }
   ],
   "source": [
    "pattern = re.compile(r'(Mr|Ms|Mrs)\\.?\\s[A-Z]\\w*')\n",
    "matches = pattern.findall(text_to_search)\n",
    "for match in matches:\n",
    "    print(match)"
   ]
  },
  {
   "cell_type": "code",
   "execution_count": 16,
   "id": "3a2fc8c7-b46a-4d18-8e3e-55771498a316",
   "metadata": {},
   "outputs": [],
   "source": [
    "# It only printed out one group\n",
    "# If there are multiple groups then it would return a list of tuples and the tuples will contain all of the groups\n",
    "# If there are no groups, it would return the list of matches of all of the strings"
   ]
  },
  {
   "cell_type": "code",
   "execution_count": 17,
   "id": "e5f0d1d7-da77-4f7c-94b5-f6d74c7175a9",
   "metadata": {},
   "outputs": [
    {
     "name": "stdout",
     "output_type": "stream",
     "text": [
      "321-555-4321\n",
      "123.555.1234\n",
      "123*555*1234\n",
      "800-555-1234\n",
      "900-555-1234\n"
     ]
    }
   ],
   "source": [
    "pattern = re.compile(r'\\d{3}.\\d{3}.\\d{4}')\n",
    "matches = pattern.findall(text_to_search)\n",
    "for match in matches:\n",
    "    print(match)"
   ]
  },
  {
   "cell_type": "code",
   "execution_count": 18,
   "id": "230a5fe7-0bec-4e9f-9e03-2a298c07353c",
   "metadata": {},
   "outputs": [],
   "source": [
    "# match() determines if the regex matches at the beginning of the string"
   ]
  },
  {
   "cell_type": "code",
   "execution_count": 19,
   "id": "18e0b6b3-f9bd-4d6e-a062-16312215d4ff",
   "metadata": {},
   "outputs": [
    {
     "ename": "TypeError",
     "evalue": "'re.Match' object is not iterable",
     "output_type": "error",
     "traceback": [
      "\u001b[1;31m---------------------------------------------------------------------------\u001b[0m",
      "\u001b[1;31mTypeError\u001b[0m                                 Traceback (most recent call last)",
      "Cell \u001b[1;32mIn[19], line 3\u001b[0m\n\u001b[0;32m      1\u001b[0m pattern \u001b[38;5;241m=\u001b[39m re\u001b[38;5;241m.\u001b[39mcompile(\u001b[38;5;124mr\u001b[39m\u001b[38;5;124m'\u001b[39m\u001b[38;5;124mStart\u001b[39m\u001b[38;5;124m'\u001b[39m)\n\u001b[0;32m      2\u001b[0m matches \u001b[38;5;241m=\u001b[39m pattern\u001b[38;5;241m.\u001b[39mmatch(sentence)\n\u001b[1;32m----> 3\u001b[0m \u001b[38;5;28;01mfor\u001b[39;00m match \u001b[38;5;129;01min\u001b[39;00m matches:\n\u001b[0;32m      4\u001b[0m     \u001b[38;5;28mprint\u001b[39m(match)\n",
      "\u001b[1;31mTypeError\u001b[0m: 're.Match' object is not iterable"
     ]
    }
   ],
   "source": [
    "pattern = re.compile(r'Start')\n",
    "matches = pattern.match(sentence)\n",
    "for match in matches:\n",
    "    print(match)"
   ]
  },
  {
   "cell_type": "code",
   "execution_count": null,
   "id": "3962731a-482b-4e53-9557-e15b667ca2f7",
   "metadata": {},
   "outputs": [],
   "source": [
    "# match doesn't return iterable, like finditer or findall, it just returns the first match and if no match it returns None\n",
    "pattern = re.compile(r'Start')\n",
    "matches = pattern.match(sentence)\n",
    "print(matches)"
   ]
  },
  {
   "cell_type": "code",
   "execution_count": null,
   "id": "0fd34881-b8b7-489f-9bd7-14cd7b420740",
   "metadata": {},
   "outputs": [],
   "source": [
    "# if no match it returns None\n",
    "pattern = re.compile(r'sentence')\n",
    "matches = pattern.match(sentence)\n",
    "print(matches)"
   ]
  },
  {
   "cell_type": "code",
   "execution_count": null,
   "id": "0ce859c9-601c-493f-977d-3cc81ba87394",
   "metadata": {},
   "outputs": [],
   "source": [
    "# The match is checkking for the word at the beginning of the string only\n",
    "# sentence is present in the above string but match returns none as it cannot find it at the very start"
   ]
  },
  {
   "cell_type": "code",
   "execution_count": 20,
   "id": "d7a2d8f7-4e52-4645-bc6e-674052221918",
   "metadata": {},
   "outputs": [
    {
     "name": "stdout",
     "output_type": "stream",
     "text": [
      "<re.Match object; span=(8, 16), match='sentence'>\n"
     ]
    }
   ],
   "source": [
    "# search() is used to search a pattern in the entire string\n",
    "# search() prints the first match that it matches\n",
    "pattern = re.compile(r'sentence')\n",
    "matches = pattern.search(sentence)\n",
    "print(matches)"
   ]
  },
  {
   "cell_type": "code",
   "execution_count": 21,
   "id": "8b7ea650-11ac-4a1f-92fd-552a71da86bd",
   "metadata": {},
   "outputs": [
    {
     "name": "stdout",
     "output_type": "stream",
     "text": [
      "None\n"
     ]
    }
   ],
   "source": [
    "# If something doesn't exist, search returns None\n",
    "pattern = re.compile(r'dne')\n",
    "matches = pattern.search(sentence)\n",
    "print(matches)"
   ]
  },
  {
   "cell_type": "code",
   "execution_count": 22,
   "id": "fb8dcc81-8b05-4973-a1c9-5de2e41c92a9",
   "metadata": {},
   "outputs": [],
   "source": [
    "# Using Flags"
   ]
  },
  {
   "cell_type": "code",
   "execution_count": 23,
   "id": "4362e506-9393-4540-9ee8-8cdede73bd5a",
   "metadata": {},
   "outputs": [],
   "source": [
    "# We want to match a word and match if it is in uppercase, lowercase or mixture of both\n",
    "\n",
    "# Let's say we want to search for the sentence to start with \"Start\" in either uppercase or lowercase or mix of both\n",
    "# re.compile(r'[Ss][Tt][Aa]'')  --> This is not the best solution as we can understand"
   ]
  },
  {
   "cell_type": "code",
   "execution_count": 24,
   "id": "305a3dd0-56da-4a84-b9df-9a714b145a0a",
   "metadata": {},
   "outputs": [
    {
     "name": "stdout",
     "output_type": "stream",
     "text": [
      "<re.Match object; span=(0, 5), match='Start'>\n"
     ]
    }
   ],
   "source": [
    "pattern = re.compile(r'start', re.IGNORECASE)\n",
    "matches = pattern.search(sentence)\n",
    "print(matches)"
   ]
  },
  {
   "cell_type": "code",
   "execution_count": 25,
   "id": "3f044dc2-e3dc-4256-916e-15256a741fd7",
   "metadata": {},
   "outputs": [],
   "source": [
    "# although we passed a lowercase 'start' in the paramter, the actual sentence is having 'Start', but we still were able to match due to the re.IGNORECASE flag"
   ]
  },
  {
   "cell_type": "code",
   "execution_count": 26,
   "id": "c8d1b4e5-a208-4b84-a74e-870f7c17c157",
   "metadata": {},
   "outputs": [
    {
     "name": "stdout",
     "output_type": "stream",
     "text": [
      "<re.Match object; span=(0, 5), match='Start'>\n"
     ]
    }
   ],
   "source": [
    "pattern = re.compile(r'start', re.I)\n",
    "matches = pattern.search(sentence)\n",
    "print(matches)\n",
    "\n",
    "# Instead of IGNORECASE we can just write I"
   ]
  },
  {
   "cell_type": "code",
   "execution_count": 27,
   "id": "2c342702-e67e-46be-8dd3-75fd0dedce1e",
   "metadata": {},
   "outputs": [],
   "source": [
    "# Several other such flags exist"
   ]
  },
  {
   "cell_type": "code",
   "execution_count": null,
   "id": "0dcdb029-2f0b-4ce4-9adb-f52f7f839e2b",
   "metadata": {},
   "outputs": [],
   "source": []
  }
 ],
 "metadata": {
  "kernelspec": {
   "display_name": "Python 3 (ipykernel)",
   "language": "python",
   "name": "python3"
  },
  "language_info": {
   "codemirror_mode": {
    "name": "ipython",
    "version": 3
   },
   "file_extension": ".py",
   "mimetype": "text/x-python",
   "name": "python",
   "nbconvert_exporter": "python",
   "pygments_lexer": "ipython3",
   "version": "3.10.9"
  }
 },
 "nbformat": 4,
 "nbformat_minor": 5
}
