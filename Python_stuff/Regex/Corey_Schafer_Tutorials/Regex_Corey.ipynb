{
 "cells": [
  {
   "cell_type": "code",
   "execution_count": 1,
   "id": "ab3a9ccd-0154-4ea9-8ead-2c93bec5337a",
   "metadata": {},
   "outputs": [],
   "source": [
    "import re"
   ]
  },
  {
   "cell_type": "code",
   "execution_count": 37,
   "id": "562cd759-7f7b-4ee8-bfe0-1bf8f5785fc1",
   "metadata": {},
   "outputs": [],
   "source": [
    "text_to_search = '''\n",
    "abcdefghijklmnopqurtuvwxyz\n",
    "ABCDEFGHIJKLMNOPQRSTUVWXYZ\n",
    "1234567890\n",
    "\n",
    "Ha HaHa\n",
    "\n",
    "MetaCharacters (Need to be escaped):\n",
    ". ^ $ * + ? { } [ ] \\ | ( )\n",
    "\n",
    "coreyms.com\n",
    "\n",
    "321-555-4321\n",
    "123.555.1234\n",
    "123*555*1234\n",
    "800-555-1234\n",
    "900-555-1234\n",
    "\n",
    "cat\n",
    "mat\n",
    "bat\n",
    "pat\n",
    "\n",
    "Mr. Schafer\n",
    "Mr Smith\n",
    "Ms Davis\n",
    "Mrs. Robinson\n",
    "Mr. T\n",
    "'''\n",
    "\n",
    "sentence = 'Start a sentence and then bring it to an end'"
   ]
  },
  {
   "cell_type": "code",
   "execution_count": 3,
   "id": "d07d1e9f-4b4a-4c8a-b34d-bfa2fabb3324",
   "metadata": {},
   "outputs": [
    {
     "name": "stdout",
     "output_type": "stream",
     "text": [
      "<re.Match object; span=(1, 4), match='abc'>\n"
     ]
    }
   ],
   "source": [
    "pattern = re.compile(r\"abc\")\n",
    "matches = pattern.finditer(text_to_search)\n",
    "for match in matches:\n",
    "    print(match)"
   ]
  },
  {
   "cell_type": "code",
   "execution_count": 4,
   "id": "24eb99ca-c7f9-4326-b0c3-e093dde30435",
   "metadata": {},
   "outputs": [
    {
     "name": "stdout",
     "output_type": "stream",
     "text": [
      "abc\n"
     ]
    }
   ],
   "source": [
    "print(text_to_search[1:4])"
   ]
  },
  {
   "cell_type": "code",
   "execution_count": 5,
   "id": "6dbb02c5-85d3-4dbc-b450-7d1ee58a9e1c",
   "metadata": {},
   "outputs": [
    {
     "name": "stdout",
     "output_type": "stream",
     "text": [
      "<re.Match object; span=(113, 114), match='.'>\n",
      "<re.Match object; span=(149, 150), match='.'>\n",
      "<re.Match object; span=(171, 172), match='.'>\n",
      "<re.Match object; span=(175, 176), match='.'>\n",
      "<re.Match object; span=(223, 224), match='.'>\n",
      "<re.Match object; span=(254, 255), match='.'>\n",
      "<re.Match object; span=(267, 268), match='.'>\n"
     ]
    }
   ],
   "source": [
    "# To search for dots\n",
    "pattern = re.compile(r\"\\.\")\n",
    "matches = pattern.finditer(text_to_search)\n",
    "for match in matches:\n",
    "    print(match)"
   ]
  },
  {
   "cell_type": "code",
   "execution_count": 12,
   "id": "08f448f2-97ed-40a5-b02b-9e97dbf3b808",
   "metadata": {},
   "outputs": [
    {
     "name": "stdout",
     "output_type": "stream",
     "text": [
      "<re.Match object; span=(142, 153), match='coreyms.com'>\n"
     ]
    }
   ],
   "source": [
    "# To search for the dot in an email\n",
    "pattern = re.compile(r\"coreyms\\.com\")\n",
    "matches = pattern.finditer(text_to_search)\n",
    "for match in matches:\n",
    "    print(match)"
   ]
  },
  {
   "cell_type": "code",
   "execution_count": 13,
   "id": "85275791-fa95-48f3-b73e-0fac6f38db98",
   "metadata": {},
   "outputs": [
    {
     "name": "stdout",
     "output_type": "stream",
     "text": [
      "<re.Match object; span=(55, 56), match='1'>\n",
      "<re.Match object; span=(56, 57), match='2'>\n",
      "<re.Match object; span=(57, 58), match='3'>\n",
      "<re.Match object; span=(58, 59), match='4'>\n",
      "<re.Match object; span=(59, 60), match='5'>\n",
      "<re.Match object; span=(60, 61), match='6'>\n",
      "<re.Match object; span=(61, 62), match='7'>\n",
      "<re.Match object; span=(62, 63), match='8'>\n",
      "<re.Match object; span=(63, 64), match='9'>\n",
      "<re.Match object; span=(64, 65), match='0'>\n",
      "<re.Match object; span=(155, 156), match='3'>\n",
      "<re.Match object; span=(156, 157), match='2'>\n",
      "<re.Match object; span=(157, 158), match='1'>\n",
      "<re.Match object; span=(159, 160), match='5'>\n",
      "<re.Match object; span=(160, 161), match='5'>\n",
      "<re.Match object; span=(161, 162), match='5'>\n",
      "<re.Match object; span=(163, 164), match='4'>\n",
      "<re.Match object; span=(164, 165), match='3'>\n",
      "<re.Match object; span=(165, 166), match='2'>\n",
      "<re.Match object; span=(166, 167), match='1'>\n",
      "<re.Match object; span=(168, 169), match='1'>\n",
      "<re.Match object; span=(169, 170), match='2'>\n",
      "<re.Match object; span=(170, 171), match='3'>\n",
      "<re.Match object; span=(172, 173), match='5'>\n",
      "<re.Match object; span=(173, 174), match='5'>\n",
      "<re.Match object; span=(174, 175), match='5'>\n",
      "<re.Match object; span=(176, 177), match='1'>\n",
      "<re.Match object; span=(177, 178), match='2'>\n",
      "<re.Match object; span=(178, 179), match='3'>\n",
      "<re.Match object; span=(179, 180), match='4'>\n",
      "<re.Match object; span=(181, 182), match='1'>\n",
      "<re.Match object; span=(182, 183), match='2'>\n",
      "<re.Match object; span=(183, 184), match='3'>\n",
      "<re.Match object; span=(185, 186), match='5'>\n",
      "<re.Match object; span=(186, 187), match='5'>\n",
      "<re.Match object; span=(187, 188), match='5'>\n",
      "<re.Match object; span=(189, 190), match='1'>\n",
      "<re.Match object; span=(190, 191), match='2'>\n",
      "<re.Match object; span=(191, 192), match='3'>\n",
      "<re.Match object; span=(192, 193), match='4'>\n",
      "<re.Match object; span=(194, 195), match='8'>\n",
      "<re.Match object; span=(195, 196), match='0'>\n",
      "<re.Match object; span=(196, 197), match='0'>\n",
      "<re.Match object; span=(198, 199), match='5'>\n",
      "<re.Match object; span=(199, 200), match='5'>\n",
      "<re.Match object; span=(200, 201), match='5'>\n",
      "<re.Match object; span=(202, 203), match='1'>\n",
      "<re.Match object; span=(203, 204), match='2'>\n",
      "<re.Match object; span=(204, 205), match='3'>\n",
      "<re.Match object; span=(205, 206), match='4'>\n",
      "<re.Match object; span=(207, 208), match='9'>\n",
      "<re.Match object; span=(208, 209), match='0'>\n",
      "<re.Match object; span=(209, 210), match='0'>\n",
      "<re.Match object; span=(211, 212), match='5'>\n",
      "<re.Match object; span=(212, 213), match='5'>\n",
      "<re.Match object; span=(213, 214), match='5'>\n",
      "<re.Match object; span=(215, 216), match='1'>\n",
      "<re.Match object; span=(216, 217), match='2'>\n",
      "<re.Match object; span=(217, 218), match='3'>\n",
      "<re.Match object; span=(218, 219), match='4'>\n"
     ]
    }
   ],
   "source": [
    "# To search for digits\n",
    "pattern = re.compile(r\"\\d\")\n",
    "matches = pattern.finditer(text_to_search)\n",
    "for match in matches:\n",
    "    print(match)"
   ]
  },
  {
   "cell_type": "code",
   "execution_count": 14,
   "id": "7a3d162b-0715-4b9b-9ffa-a0cb2f5b2b07",
   "metadata": {},
   "outputs": [
    {
     "name": "stdout",
     "output_type": "stream",
     "text": [
      "<re.Match object; span=(0, 1), match='\\n'>\n",
      "<re.Match object; span=(1, 2), match='a'>\n",
      "<re.Match object; span=(2, 3), match='b'>\n",
      "<re.Match object; span=(3, 4), match='c'>\n",
      "<re.Match object; span=(4, 5), match='d'>\n",
      "<re.Match object; span=(5, 6), match='e'>\n",
      "<re.Match object; span=(6, 7), match='f'>\n",
      "<re.Match object; span=(7, 8), match='g'>\n",
      "<re.Match object; span=(8, 9), match='h'>\n",
      "<re.Match object; span=(9, 10), match='i'>\n",
      "<re.Match object; span=(10, 11), match='j'>\n",
      "<re.Match object; span=(11, 12), match='k'>\n",
      "<re.Match object; span=(12, 13), match='l'>\n",
      "<re.Match object; span=(13, 14), match='m'>\n",
      "<re.Match object; span=(14, 15), match='n'>\n",
      "<re.Match object; span=(15, 16), match='o'>\n",
      "<re.Match object; span=(16, 17), match='p'>\n",
      "<re.Match object; span=(17, 18), match='q'>\n",
      "<re.Match object; span=(18, 19), match='u'>\n",
      "<re.Match object; span=(19, 20), match='r'>\n",
      "<re.Match object; span=(20, 21), match='t'>\n",
      "<re.Match object; span=(21, 22), match='u'>\n",
      "<re.Match object; span=(22, 23), match='v'>\n",
      "<re.Match object; span=(23, 24), match='w'>\n",
      "<re.Match object; span=(24, 25), match='x'>\n",
      "<re.Match object; span=(25, 26), match='y'>\n",
      "<re.Match object; span=(26, 27), match='z'>\n",
      "<re.Match object; span=(27, 28), match='\\n'>\n",
      "<re.Match object; span=(28, 29), match='A'>\n",
      "<re.Match object; span=(29, 30), match='B'>\n",
      "<re.Match object; span=(30, 31), match='C'>\n",
      "<re.Match object; span=(31, 32), match='D'>\n",
      "<re.Match object; span=(32, 33), match='E'>\n",
      "<re.Match object; span=(33, 34), match='F'>\n",
      "<re.Match object; span=(34, 35), match='G'>\n",
      "<re.Match object; span=(35, 36), match='H'>\n",
      "<re.Match object; span=(36, 37), match='I'>\n",
      "<re.Match object; span=(37, 38), match='J'>\n",
      "<re.Match object; span=(38, 39), match='K'>\n",
      "<re.Match object; span=(39, 40), match='L'>\n",
      "<re.Match object; span=(40, 41), match='M'>\n",
      "<re.Match object; span=(41, 42), match='N'>\n",
      "<re.Match object; span=(42, 43), match='O'>\n",
      "<re.Match object; span=(43, 44), match='P'>\n",
      "<re.Match object; span=(44, 45), match='Q'>\n",
      "<re.Match object; span=(45, 46), match='R'>\n",
      "<re.Match object; span=(46, 47), match='S'>\n",
      "<re.Match object; span=(47, 48), match='T'>\n",
      "<re.Match object; span=(48, 49), match='U'>\n",
      "<re.Match object; span=(49, 50), match='V'>\n",
      "<re.Match object; span=(50, 51), match='W'>\n",
      "<re.Match object; span=(51, 52), match='X'>\n",
      "<re.Match object; span=(52, 53), match='Y'>\n",
      "<re.Match object; span=(53, 54), match='Z'>\n",
      "<re.Match object; span=(54, 55), match='\\n'>\n",
      "<re.Match object; span=(65, 66), match='\\n'>\n",
      "<re.Match object; span=(66, 67), match='\\n'>\n",
      "<re.Match object; span=(67, 68), match='H'>\n",
      "<re.Match object; span=(68, 69), match='a'>\n",
      "<re.Match object; span=(69, 70), match=' '>\n",
      "<re.Match object; span=(70, 71), match='H'>\n",
      "<re.Match object; span=(71, 72), match='a'>\n",
      "<re.Match object; span=(72, 73), match='H'>\n",
      "<re.Match object; span=(73, 74), match='a'>\n",
      "<re.Match object; span=(74, 75), match='\\n'>\n",
      "<re.Match object; span=(75, 76), match='\\n'>\n",
      "<re.Match object; span=(76, 77), match='M'>\n",
      "<re.Match object; span=(77, 78), match='e'>\n",
      "<re.Match object; span=(78, 79), match='t'>\n",
      "<re.Match object; span=(79, 80), match='a'>\n",
      "<re.Match object; span=(80, 81), match='C'>\n",
      "<re.Match object; span=(81, 82), match='h'>\n",
      "<re.Match object; span=(82, 83), match='a'>\n",
      "<re.Match object; span=(83, 84), match='r'>\n",
      "<re.Match object; span=(84, 85), match='a'>\n",
      "<re.Match object; span=(85, 86), match='c'>\n",
      "<re.Match object; span=(86, 87), match='t'>\n",
      "<re.Match object; span=(87, 88), match='e'>\n",
      "<re.Match object; span=(88, 89), match='r'>\n",
      "<re.Match object; span=(89, 90), match='s'>\n",
      "<re.Match object; span=(90, 91), match=' '>\n",
      "<re.Match object; span=(91, 92), match='('>\n",
      "<re.Match object; span=(92, 93), match='N'>\n",
      "<re.Match object; span=(93, 94), match='e'>\n",
      "<re.Match object; span=(94, 95), match='e'>\n",
      "<re.Match object; span=(95, 96), match='d'>\n",
      "<re.Match object; span=(96, 97), match=' '>\n",
      "<re.Match object; span=(97, 98), match='t'>\n",
      "<re.Match object; span=(98, 99), match='o'>\n",
      "<re.Match object; span=(99, 100), match=' '>\n",
      "<re.Match object; span=(100, 101), match='b'>\n",
      "<re.Match object; span=(101, 102), match='e'>\n",
      "<re.Match object; span=(102, 103), match=' '>\n",
      "<re.Match object; span=(103, 104), match='e'>\n",
      "<re.Match object; span=(104, 105), match='s'>\n",
      "<re.Match object; span=(105, 106), match='c'>\n",
      "<re.Match object; span=(106, 107), match='a'>\n",
      "<re.Match object; span=(107, 108), match='p'>\n",
      "<re.Match object; span=(108, 109), match='e'>\n",
      "<re.Match object; span=(109, 110), match='d'>\n",
      "<re.Match object; span=(110, 111), match=')'>\n",
      "<re.Match object; span=(111, 112), match=':'>\n",
      "<re.Match object; span=(112, 113), match='\\n'>\n",
      "<re.Match object; span=(113, 114), match='.'>\n",
      "<re.Match object; span=(114, 115), match=' '>\n",
      "<re.Match object; span=(115, 116), match='^'>\n",
      "<re.Match object; span=(116, 117), match=' '>\n",
      "<re.Match object; span=(117, 118), match='$'>\n",
      "<re.Match object; span=(118, 119), match=' '>\n",
      "<re.Match object; span=(119, 120), match='*'>\n",
      "<re.Match object; span=(120, 121), match=' '>\n",
      "<re.Match object; span=(121, 122), match='+'>\n",
      "<re.Match object; span=(122, 123), match=' '>\n",
      "<re.Match object; span=(123, 124), match='?'>\n",
      "<re.Match object; span=(124, 125), match=' '>\n",
      "<re.Match object; span=(125, 126), match='{'>\n",
      "<re.Match object; span=(126, 127), match=' '>\n",
      "<re.Match object; span=(127, 128), match='}'>\n",
      "<re.Match object; span=(128, 129), match=' '>\n",
      "<re.Match object; span=(129, 130), match='['>\n",
      "<re.Match object; span=(130, 131), match=' '>\n",
      "<re.Match object; span=(131, 132), match=']'>\n",
      "<re.Match object; span=(132, 133), match=' '>\n",
      "<re.Match object; span=(133, 134), match='\\\\'>\n",
      "<re.Match object; span=(134, 135), match=' '>\n",
      "<re.Match object; span=(135, 136), match='|'>\n",
      "<re.Match object; span=(136, 137), match=' '>\n",
      "<re.Match object; span=(137, 138), match='('>\n",
      "<re.Match object; span=(138, 139), match=' '>\n",
      "<re.Match object; span=(139, 140), match=')'>\n",
      "<re.Match object; span=(140, 141), match='\\n'>\n",
      "<re.Match object; span=(141, 142), match='\\n'>\n",
      "<re.Match object; span=(142, 143), match='c'>\n",
      "<re.Match object; span=(143, 144), match='o'>\n",
      "<re.Match object; span=(144, 145), match='r'>\n",
      "<re.Match object; span=(145, 146), match='e'>\n",
      "<re.Match object; span=(146, 147), match='y'>\n",
      "<re.Match object; span=(147, 148), match='m'>\n",
      "<re.Match object; span=(148, 149), match='s'>\n",
      "<re.Match object; span=(149, 150), match='.'>\n",
      "<re.Match object; span=(150, 151), match='c'>\n",
      "<re.Match object; span=(151, 152), match='o'>\n",
      "<re.Match object; span=(152, 153), match='m'>\n",
      "<re.Match object; span=(153, 154), match='\\n'>\n",
      "<re.Match object; span=(154, 155), match='\\n'>\n",
      "<re.Match object; span=(158, 159), match='-'>\n",
      "<re.Match object; span=(162, 163), match='-'>\n",
      "<re.Match object; span=(167, 168), match='\\n'>\n",
      "<re.Match object; span=(171, 172), match='.'>\n",
      "<re.Match object; span=(175, 176), match='.'>\n",
      "<re.Match object; span=(180, 181), match='\\n'>\n",
      "<re.Match object; span=(184, 185), match='*'>\n",
      "<re.Match object; span=(188, 189), match='*'>\n",
      "<re.Match object; span=(193, 194), match='\\n'>\n",
      "<re.Match object; span=(197, 198), match='-'>\n",
      "<re.Match object; span=(201, 202), match='-'>\n",
      "<re.Match object; span=(206, 207), match='\\n'>\n",
      "<re.Match object; span=(210, 211), match='-'>\n",
      "<re.Match object; span=(214, 215), match='-'>\n",
      "<re.Match object; span=(219, 220), match='\\n'>\n",
      "<re.Match object; span=(220, 221), match='\\n'>\n",
      "<re.Match object; span=(221, 222), match='M'>\n",
      "<re.Match object; span=(222, 223), match='r'>\n",
      "<re.Match object; span=(223, 224), match='.'>\n",
      "<re.Match object; span=(224, 225), match=' '>\n",
      "<re.Match object; span=(225, 226), match='S'>\n",
      "<re.Match object; span=(226, 227), match='c'>\n",
      "<re.Match object; span=(227, 228), match='h'>\n",
      "<re.Match object; span=(228, 229), match='a'>\n",
      "<re.Match object; span=(229, 230), match='f'>\n",
      "<re.Match object; span=(230, 231), match='e'>\n",
      "<re.Match object; span=(231, 232), match='r'>\n",
      "<re.Match object; span=(232, 233), match='\\n'>\n",
      "<re.Match object; span=(233, 234), match='M'>\n",
      "<re.Match object; span=(234, 235), match='r'>\n",
      "<re.Match object; span=(235, 236), match=' '>\n",
      "<re.Match object; span=(236, 237), match='S'>\n",
      "<re.Match object; span=(237, 238), match='m'>\n",
      "<re.Match object; span=(238, 239), match='i'>\n",
      "<re.Match object; span=(239, 240), match='t'>\n",
      "<re.Match object; span=(240, 241), match='h'>\n",
      "<re.Match object; span=(241, 242), match='\\n'>\n",
      "<re.Match object; span=(242, 243), match='M'>\n",
      "<re.Match object; span=(243, 244), match='s'>\n",
      "<re.Match object; span=(244, 245), match=' '>\n",
      "<re.Match object; span=(245, 246), match='D'>\n",
      "<re.Match object; span=(246, 247), match='a'>\n",
      "<re.Match object; span=(247, 248), match='v'>\n",
      "<re.Match object; span=(248, 249), match='i'>\n",
      "<re.Match object; span=(249, 250), match='s'>\n",
      "<re.Match object; span=(250, 251), match='\\n'>\n",
      "<re.Match object; span=(251, 252), match='M'>\n",
      "<re.Match object; span=(252, 253), match='r'>\n",
      "<re.Match object; span=(253, 254), match='s'>\n",
      "<re.Match object; span=(254, 255), match='.'>\n",
      "<re.Match object; span=(255, 256), match=' '>\n",
      "<re.Match object; span=(256, 257), match='R'>\n",
      "<re.Match object; span=(257, 258), match='o'>\n",
      "<re.Match object; span=(258, 259), match='b'>\n",
      "<re.Match object; span=(259, 260), match='i'>\n",
      "<re.Match object; span=(260, 261), match='n'>\n",
      "<re.Match object; span=(261, 262), match='s'>\n",
      "<re.Match object; span=(262, 263), match='o'>\n",
      "<re.Match object; span=(263, 264), match='n'>\n",
      "<re.Match object; span=(264, 265), match='\\n'>\n",
      "<re.Match object; span=(265, 266), match='M'>\n",
      "<re.Match object; span=(266, 267), match='r'>\n",
      "<re.Match object; span=(267, 268), match='.'>\n",
      "<re.Match object; span=(268, 269), match=' '>\n",
      "<re.Match object; span=(269, 270), match='T'>\n",
      "<re.Match object; span=(270, 271), match='\\n'>\n"
     ]
    }
   ],
   "source": [
    "# To search for non-digits\n",
    "pattern = re.compile(r\"\\D\")\n",
    "matches = pattern.finditer(text_to_search)\n",
    "for match in matches:\n",
    "    print(match)"
   ]
  },
  {
   "cell_type": "code",
   "execution_count": 16,
   "id": "c675ed2b-033b-46a7-9e02-b4e43fbf64d1",
   "metadata": {},
   "outputs": [],
   "source": [
    "# Same way we can do for the following:\n",
    "# \\w      - Word Character (a-z, A-Z, 0-9, _)\n",
    "# \\W      - Not a Word Character\n",
    "# \\s      - Whitespace (space, tab, newline)\n",
    "# \\S      - Not Whitespace (space, tab, newline)\n",
    "\n",
    "# \\b      - Word Boundary \n",
    "# \\B      - Not a Word Boundary\n",
    "\n",
    "# Word boundaries are white spaces or non-alphanumeric characters"
   ]
  },
  {
   "cell_type": "code",
   "execution_count": 19,
   "id": "eba489f3-bc32-41f7-b2e2-f87917c4f1cf",
   "metadata": {},
   "outputs": [
    {
     "name": "stdout",
     "output_type": "stream",
     "text": [
      "<re.Match object; span=(67, 69), match='Ha'>\n",
      "<re.Match object; span=(70, 72), match='Ha'>\n"
     ]
    }
   ],
   "source": [
    "pattern = re.compile(r\"\\bHa\")\n",
    "matches = pattern.finditer(text_to_search)\n",
    "for match in matches:\n",
    "    print(match)\n",
    "    \n",
    "# this match \"Ha\" and starting \"Ha\" of \"HaHa\""
   ]
  },
  {
   "cell_type": "code",
   "execution_count": 20,
   "id": "41c00fd9-5d88-416d-87f4-38a7a25336db",
   "metadata": {},
   "outputs": [
    {
     "name": "stdout",
     "output_type": "stream",
     "text": [
      "<re.Match object; span=(72, 74), match='Ha'>\n"
     ]
    }
   ],
   "source": [
    "pattern = re.compile(r\"\\BHa\")\n",
    "matches = pattern.finditer(text_to_search)\n",
    "for match in matches:\n",
    "    print(match)\n",
    "    \n",
    "# this match ending \"Ha\" of \"HaHa\""
   ]
  },
  {
   "cell_type": "code",
   "execution_count": 21,
   "id": "3067cc55-6a7a-4238-a033-c9fec906d18e",
   "metadata": {},
   "outputs": [
    {
     "name": "stdout",
     "output_type": "stream",
     "text": [
      "<re.Match object; span=(0, 5), match='Start'>\n"
     ]
    }
   ],
   "source": [
    "# Demonstrating ^ use\n",
    "sentence = 'Start a sentence and then bring it to an end'\n",
    "pattern = re.compile(r\"^Start\")\n",
    "matches = pattern.finditer(sentence)\n",
    "for match in matches:\n",
    "    print(match)"
   ]
  },
  {
   "cell_type": "code",
   "execution_count": 22,
   "id": "d5e5600a-62e8-436b-bba6-8d8d2ee3c870",
   "metadata": {},
   "outputs": [],
   "source": [
    "# Demonstrating ^ use\n",
    "# Let's start to search for letter that does not appear at the start\n",
    "\n",
    "pattern = re.compile(r\"^a\")\n",
    "matches = pattern.finditer(sentence)\n",
    "for match in matches:\n",
    "    print(match)"
   ]
  },
  {
   "cell_type": "code",
   "execution_count": 23,
   "id": "89decdc4-6a92-4252-98e2-9b93a93e11e1",
   "metadata": {},
   "outputs": [
    {
     "name": "stdout",
     "output_type": "stream",
     "text": [
      "<re.Match object; span=(41, 44), match='end'>\n"
     ]
    }
   ],
   "source": [
    "# Demonstrating $ use\n",
    "pattern = re.compile(r\"end$\")\n",
    "matches = pattern.finditer(sentence)\n",
    "for match in matches:\n",
    "    print(match)"
   ]
  },
  {
   "cell_type": "code",
   "execution_count": 24,
   "id": "6b777c16-591e-4a08-b21e-208dd3236d86",
   "metadata": {},
   "outputs": [],
   "source": [
    "# Searching for phone numbers in our big multiline string above:"
   ]
  },
  {
   "cell_type": "code",
   "execution_count": 25,
   "id": "05719318-8047-472f-8e1e-68ce2a67807e",
   "metadata": {},
   "outputs": [
    {
     "name": "stdout",
     "output_type": "stream",
     "text": [
      "<re.Match object; span=(155, 167), match='321-555-4321'>\n",
      "<re.Match object; span=(168, 180), match='123.555.1234'>\n",
      "<re.Match object; span=(181, 193), match='123*555*1234'>\n",
      "<re.Match object; span=(194, 206), match='800-555-1234'>\n",
      "<re.Match object; span=(207, 219), match='900-555-1234'>\n"
     ]
    }
   ],
   "source": [
    "pattern = re.compile(r\"\\d{3}.\\d{3}.\\d{4}\")\n",
    "matches = pattern.finditer(text_to_search)\n",
    "for match in matches:\n",
    "    print(match)"
   ]
  },
  {
   "cell_type": "code",
   "execution_count": 28,
   "id": "f5bf2caa-4ff6-44b4-8c93-a7d19678fa4e",
   "metadata": {},
   "outputs": [
    {
     "name": "stdout",
     "output_type": "stream",
     "text": [
      "<re.Match object; span=(12, 24), match='615-555-7164'>\n",
      "<re.Match object; span=(102, 114), match='800-555-5669'>\n",
      "<re.Match object; span=(191, 203), match='560-555-5153'>\n",
      "<re.Match object; span=(281, 293), match='900-555-9340'>\n",
      "<re.Match object; span=(378, 390), match='714-555-7405'>\n",
      "<re.Match object; span=(467, 479), match='800-555-6771'>\n",
      "<re.Match object; span=(557, 569), match='783-555-4799'>\n",
      "<re.Match object; span=(647, 659), match='516-555-4615'>\n",
      "<re.Match object; span=(740, 752), match='127-555-1867'>\n",
      "<re.Match object; span=(831, 843), match='608-555-4938'>\n",
      "<re.Match object; span=(917, 929), match='568-555-6051'>\n",
      "<re.Match object; span=(1005, 1017), match='292-555-1875'>\n",
      "<re.Match object; span=(1093, 1105), match='900-555-3205'>\n",
      "<re.Match object; span=(1182, 1194), match='614-555-1166'>\n",
      "<re.Match object; span=(1273, 1285), match='530-555-2676'>\n",
      "<re.Match object; span=(1359, 1371), match='470-555-2750'>\n",
      "<re.Match object; span=(1443, 1455), match='800-555-6089'>\n",
      "<re.Match object; span=(1530, 1542), match='880-555-8319'>\n",
      "<re.Match object; span=(1618, 1630), match='777-555-8378'>\n",
      "<re.Match object; span=(1701, 1713), match='998-555-7385'>\n",
      "<re.Match object; span=(1794, 1806), match='800-555-7100'>\n",
      "<re.Match object; span=(1878, 1890), match='903-555-8277'>\n",
      "<re.Match object; span=(1966, 1978), match='196-555-5674'>\n",
      "<re.Match object; span=(2055, 2067), match='900-555-5118'>\n",
      "<re.Match object; span=(2139, 2151), match='905-555-1630'>\n",
      "<re.Match object; span=(2220, 2232), match='203-555-3475'>\n",
      "<re.Match object; span=(2304, 2316), match='884-555-8444'>\n",
      "<re.Match object; span=(2391, 2403), match='904-555-8559'>\n",
      "<re.Match object; span=(2479, 2491), match='889-555-7393'>\n",
      "<re.Match object; span=(2566, 2578), match='195-555-2405'>\n",
      "<re.Match object; span=(2651, 2663), match='321-555-9053'>\n",
      "<re.Match object; span=(2738, 2750), match='133-555-1711'>\n",
      "<re.Match object; span=(2830, 2842), match='900-555-5428'>\n",
      "<re.Match object; span=(2919, 2931), match='760-555-7147'>\n",
      "<re.Match object; span=(3018, 3030), match='391-555-6621'>\n",
      "<re.Match object; span=(3109, 3121), match='932-555-7724'>\n",
      "<re.Match object; span=(3198, 3210), match='609-555-7908'>\n",
      "<re.Match object; span=(3290, 3302), match='800-555-8810'>\n",
      "<re.Match object; span=(3378, 3390), match='149-555-7657'>\n",
      "<re.Match object; span=(3458, 3470), match='130-555-9709'>\n",
      "<re.Match object; span=(3541, 3553), match='143-555-9295'>\n",
      "<re.Match object; span=(3630, 3642), match='903-555-9878'>\n",
      "<re.Match object; span=(3720, 3732), match='574-555-3194'>\n",
      "<re.Match object; span=(3808, 3820), match='496-555-7533'>\n",
      "<re.Match object; span=(3893, 3905), match='210-555-3757'>\n",
      "<re.Match object; span=(3977, 3989), match='900-555-9598'>\n",
      "<re.Match object; span=(4062, 4074), match='866-555-9844'>\n",
      "<re.Match object; span=(4146, 4158), match='669-555-7159'>\n",
      "<re.Match object; span=(4231, 4243), match='152-555-7417'>\n",
      "<re.Match object; span=(4323, 4335), match='893-555-9832'>\n",
      "<re.Match object; span=(4413, 4425), match='217-555-7123'>\n",
      "<re.Match object; span=(4504, 4516), match='786-555-6544'>\n",
      "<re.Match object; span=(4594, 4606), match='780-555-2574'>\n",
      "<re.Match object; span=(4682, 4694), match='926-555-8735'>\n",
      "<re.Match object; span=(4768, 4780), match='895-555-3539'>\n",
      "<re.Match object; span=(4865, 4877), match='874-555-3949'>\n",
      "<re.Match object; span=(4951, 4963), match='800-555-2420'>\n",
      "<re.Match object; span=(5040, 5052), match='936-555-6340'>\n",
      "<re.Match object; span=(5129, 5141), match='372-555-9809'>\n",
      "<re.Match object; span=(5216, 5228), match='890-555-5618'>\n",
      "<re.Match object; span=(5298, 5310), match='670-555-3005'>\n",
      "<re.Match object; span=(5388, 5400), match='509-555-5997'>\n",
      "<re.Match object; span=(5481, 5493), match='721-555-5632'>\n",
      "<re.Match object; span=(5572, 5584), match='900-555-3567'>\n",
      "<re.Match object; span=(5662, 5674), match='147-555-6830'>\n",
      "<re.Match object; span=(5751, 5763), match='582-555-3426'>\n",
      "<re.Match object; span=(5836, 5848), match='400-555-1706'>\n",
      "<re.Match object; span=(5927, 5939), match='525-555-1793'>\n",
      "<re.Match object; span=(6017, 6029), match='317-555-6700'>\n",
      "<re.Match object; span=(6105, 6117), match='974-555-8301'>\n",
      "<re.Match object; span=(6195, 6207), match='800-555-3216'>\n",
      "<re.Match object; span=(6281, 6293), match='746-555-4094'>\n",
      "<re.Match object; span=(6368, 6380), match='922-555-1773'>\n",
      "<re.Match object; span=(6453, 6465), match='711-555-4427'>\n",
      "<re.Match object; span=(6538, 6550), match='355-555-1872'>\n",
      "<re.Match object; span=(6627, 6639), match='852-555-6521'>\n",
      "<re.Match object; span=(6719, 6731), match='691-555-5773'>\n",
      "<re.Match object; span=(6811, 6823), match='332-555-5441'>\n",
      "<re.Match object; span=(6897, 6909), match='900-555-7755'>\n",
      "<re.Match object; span=(6979, 6991), match='379-555-3685'>\n",
      "<re.Match object; span=(7069, 7081), match='127-555-9682'>\n",
      "<re.Match object; span=(7160, 7172), match='789-555-7032'>\n",
      "<re.Match object; span=(7251, 7263), match='783-555-5135'>\n",
      "<re.Match object; span=(7344, 7356), match='315-555-6507'>\n",
      "<re.Match object; span=(7435, 7447), match='481-555-5835'>\n",
      "<re.Match object; span=(7523, 7535), match='365-555-8287'>\n",
      "<re.Match object; span=(7615, 7627), match='911-555-7535'>\n",
      "<re.Match object; span=(7701, 7713), match='681-555-2460'>\n",
      "<re.Match object; span=(7787, 7799), match='274-555-9800'>\n",
      "<re.Match object; span=(7872, 7884), match='800-555-1372'>\n",
      "<re.Match object; span=(7961, 7973), match='300-555-7821'>\n",
      "<re.Match object; span=(8051, 8063), match='133-555-3889'>\n",
      "<re.Match object; span=(8139, 8151), match='705-555-6863'>\n",
      "<re.Match object; span=(8228, 8240), match='215-555-9449'>\n",
      "<re.Match object; span=(8319, 8331), match='988-555-6112'>\n",
      "<re.Match object; span=(8405, 8417), match='623-555-3006'>\n",
      "<re.Match object; span=(8489, 8501), match='192-555-4977'>\n",
      "<re.Match object; span=(8574, 8586), match='178-555-4899'>\n",
      "<re.Match object; span=(8658, 8670), match='952-555-3089'>\n",
      "<re.Match object; span=(8751, 8763), match='900-555-6426'>\n"
     ]
    }
   ],
   "source": [
    "# Reading  from the data.txt file\n",
    "\n",
    "with open('data.txt', 'r') as f:\n",
    "    contents = f.read()\n",
    "    matches = pattern.finditer(contents)\n",
    "    \n",
    "    for match in matches:\n",
    "        print(match)"
   ]
  },
  {
   "cell_type": "code",
   "execution_count": 29,
   "id": "fb6ea73f-1fec-4e72-8237-d75b3e4e74c6",
   "metadata": {},
   "outputs": [
    {
     "name": "stdout",
     "output_type": "stream",
     "text": [
      "<re.Match object; span=(155, 167), match='321-555-4321'>\n",
      "<re.Match object; span=(168, 180), match='123.555.1234'>\n",
      "<re.Match object; span=(194, 206), match='800-555-1234'>\n",
      "<re.Match object; span=(207, 219), match='900-555-1234'>\n"
     ]
    }
   ],
   "source": [
    "# To match phone numbers having only dash or dot in them, we can use character sets\n",
    "pattern = re.compile(r\"\\d{3}[-.]\\d{3}[-.]\\d{4}\")\n",
    "matches = pattern.finditer(text_to_search)\n",
    "for match in matches:\n",
    "    print(match)"
   ]
  },
  {
   "cell_type": "code",
   "execution_count": 30,
   "id": "705aacf8-7438-4e33-8ccc-39984abfd83d",
   "metadata": {},
   "outputs": [],
   "source": [
    "# Above we have defined a CHARACTER SET comprising of a dash and a dot"
   ]
  },
  {
   "cell_type": "code",
   "execution_count": 31,
   "id": "23986972-17b4-4087-a049-f6deb92fcc23",
   "metadata": {},
   "outputs": [
    {
     "name": "stdout",
     "output_type": "stream",
     "text": [
      "<re.Match object; span=(194, 206), match='800-555-1234'>\n",
      "<re.Match object; span=(207, 219), match='900-555-1234'>\n"
     ]
    }
   ],
   "source": [
    "# To match phone numbers starting with 8 or 9\n",
    "pattern = re.compile(r\"[89]00[-.]\\d{3}[-.]\\d{4}\")\n",
    "matches = pattern.finditer(text_to_search)\n",
    "for match in matches:\n",
    "    print(match)"
   ]
  },
  {
   "cell_type": "code",
   "execution_count": 33,
   "id": "b8b92ea7-0d53-480e-9d81-3d02e36afadf",
   "metadata": {},
   "outputs": [
    {
     "name": "stdout",
     "output_type": "stream",
     "text": [
      "<re.Match object; span=(1, 2), match='a'>\n",
      "<re.Match object; span=(2, 3), match='b'>\n",
      "<re.Match object; span=(3, 4), match='c'>\n",
      "<re.Match object; span=(4, 5), match='d'>\n",
      "<re.Match object; span=(5, 6), match='e'>\n",
      "<re.Match object; span=(6, 7), match='f'>\n",
      "<re.Match object; span=(7, 8), match='g'>\n",
      "<re.Match object; span=(8, 9), match='h'>\n",
      "<re.Match object; span=(9, 10), match='i'>\n",
      "<re.Match object; span=(10, 11), match='j'>\n",
      "<re.Match object; span=(11, 12), match='k'>\n",
      "<re.Match object; span=(12, 13), match='l'>\n",
      "<re.Match object; span=(13, 14), match='m'>\n",
      "<re.Match object; span=(14, 15), match='n'>\n",
      "<re.Match object; span=(15, 16), match='o'>\n",
      "<re.Match object; span=(16, 17), match='p'>\n",
      "<re.Match object; span=(17, 18), match='q'>\n",
      "<re.Match object; span=(18, 19), match='u'>\n",
      "<re.Match object; span=(19, 20), match='r'>\n",
      "<re.Match object; span=(20, 21), match='t'>\n",
      "<re.Match object; span=(21, 22), match='u'>\n",
      "<re.Match object; span=(22, 23), match='v'>\n",
      "<re.Match object; span=(23, 24), match='w'>\n",
      "<re.Match object; span=(24, 25), match='x'>\n",
      "<re.Match object; span=(25, 26), match='y'>\n",
      "<re.Match object; span=(26, 27), match='z'>\n",
      "<re.Match object; span=(28, 29), match='A'>\n",
      "<re.Match object; span=(29, 30), match='B'>\n",
      "<re.Match object; span=(30, 31), match='C'>\n",
      "<re.Match object; span=(31, 32), match='D'>\n",
      "<re.Match object; span=(32, 33), match='E'>\n",
      "<re.Match object; span=(33, 34), match='F'>\n",
      "<re.Match object; span=(34, 35), match='G'>\n",
      "<re.Match object; span=(35, 36), match='H'>\n",
      "<re.Match object; span=(36, 37), match='I'>\n",
      "<re.Match object; span=(37, 38), match='J'>\n",
      "<re.Match object; span=(38, 39), match='K'>\n",
      "<re.Match object; span=(39, 40), match='L'>\n",
      "<re.Match object; span=(40, 41), match='M'>\n",
      "<re.Match object; span=(41, 42), match='N'>\n",
      "<re.Match object; span=(42, 43), match='O'>\n",
      "<re.Match object; span=(43, 44), match='P'>\n",
      "<re.Match object; span=(44, 45), match='Q'>\n",
      "<re.Match object; span=(45, 46), match='R'>\n",
      "<re.Match object; span=(46, 47), match='S'>\n",
      "<re.Match object; span=(47, 48), match='T'>\n",
      "<re.Match object; span=(48, 49), match='U'>\n",
      "<re.Match object; span=(49, 50), match='V'>\n",
      "<re.Match object; span=(50, 51), match='W'>\n",
      "<re.Match object; span=(51, 52), match='X'>\n",
      "<re.Match object; span=(52, 53), match='Y'>\n",
      "<re.Match object; span=(53, 54), match='Z'>\n",
      "<re.Match object; span=(67, 68), match='H'>\n",
      "<re.Match object; span=(68, 69), match='a'>\n",
      "<re.Match object; span=(70, 71), match='H'>\n",
      "<re.Match object; span=(71, 72), match='a'>\n",
      "<re.Match object; span=(72, 73), match='H'>\n",
      "<re.Match object; span=(73, 74), match='a'>\n",
      "<re.Match object; span=(76, 77), match='M'>\n",
      "<re.Match object; span=(77, 78), match='e'>\n",
      "<re.Match object; span=(78, 79), match='t'>\n",
      "<re.Match object; span=(79, 80), match='a'>\n",
      "<re.Match object; span=(80, 81), match='C'>\n",
      "<re.Match object; span=(81, 82), match='h'>\n",
      "<re.Match object; span=(82, 83), match='a'>\n",
      "<re.Match object; span=(83, 84), match='r'>\n",
      "<re.Match object; span=(84, 85), match='a'>\n",
      "<re.Match object; span=(85, 86), match='c'>\n",
      "<re.Match object; span=(86, 87), match='t'>\n",
      "<re.Match object; span=(87, 88), match='e'>\n",
      "<re.Match object; span=(88, 89), match='r'>\n",
      "<re.Match object; span=(89, 90), match='s'>\n",
      "<re.Match object; span=(92, 93), match='N'>\n",
      "<re.Match object; span=(93, 94), match='e'>\n",
      "<re.Match object; span=(94, 95), match='e'>\n",
      "<re.Match object; span=(95, 96), match='d'>\n",
      "<re.Match object; span=(97, 98), match='t'>\n",
      "<re.Match object; span=(98, 99), match='o'>\n",
      "<re.Match object; span=(100, 101), match='b'>\n",
      "<re.Match object; span=(101, 102), match='e'>\n",
      "<re.Match object; span=(103, 104), match='e'>\n",
      "<re.Match object; span=(104, 105), match='s'>\n",
      "<re.Match object; span=(105, 106), match='c'>\n",
      "<re.Match object; span=(106, 107), match='a'>\n",
      "<re.Match object; span=(107, 108), match='p'>\n",
      "<re.Match object; span=(108, 109), match='e'>\n",
      "<re.Match object; span=(109, 110), match='d'>\n",
      "<re.Match object; span=(142, 143), match='c'>\n",
      "<re.Match object; span=(143, 144), match='o'>\n",
      "<re.Match object; span=(144, 145), match='r'>\n",
      "<re.Match object; span=(145, 146), match='e'>\n",
      "<re.Match object; span=(146, 147), match='y'>\n",
      "<re.Match object; span=(147, 148), match='m'>\n",
      "<re.Match object; span=(148, 149), match='s'>\n",
      "<re.Match object; span=(150, 151), match='c'>\n",
      "<re.Match object; span=(151, 152), match='o'>\n",
      "<re.Match object; span=(152, 153), match='m'>\n",
      "<re.Match object; span=(221, 222), match='M'>\n",
      "<re.Match object; span=(222, 223), match='r'>\n",
      "<re.Match object; span=(225, 226), match='S'>\n",
      "<re.Match object; span=(226, 227), match='c'>\n",
      "<re.Match object; span=(227, 228), match='h'>\n",
      "<re.Match object; span=(228, 229), match='a'>\n",
      "<re.Match object; span=(229, 230), match='f'>\n",
      "<re.Match object; span=(230, 231), match='e'>\n",
      "<re.Match object; span=(231, 232), match='r'>\n",
      "<re.Match object; span=(233, 234), match='M'>\n",
      "<re.Match object; span=(234, 235), match='r'>\n",
      "<re.Match object; span=(236, 237), match='S'>\n",
      "<re.Match object; span=(237, 238), match='m'>\n",
      "<re.Match object; span=(238, 239), match='i'>\n",
      "<re.Match object; span=(239, 240), match='t'>\n",
      "<re.Match object; span=(240, 241), match='h'>\n",
      "<re.Match object; span=(242, 243), match='M'>\n",
      "<re.Match object; span=(243, 244), match='s'>\n",
      "<re.Match object; span=(245, 246), match='D'>\n",
      "<re.Match object; span=(246, 247), match='a'>\n",
      "<re.Match object; span=(247, 248), match='v'>\n",
      "<re.Match object; span=(248, 249), match='i'>\n",
      "<re.Match object; span=(249, 250), match='s'>\n",
      "<re.Match object; span=(251, 252), match='M'>\n",
      "<re.Match object; span=(252, 253), match='r'>\n",
      "<re.Match object; span=(253, 254), match='s'>\n",
      "<re.Match object; span=(256, 257), match='R'>\n",
      "<re.Match object; span=(257, 258), match='o'>\n",
      "<re.Match object; span=(258, 259), match='b'>\n",
      "<re.Match object; span=(259, 260), match='i'>\n",
      "<re.Match object; span=(260, 261), match='n'>\n",
      "<re.Match object; span=(261, 262), match='s'>\n",
      "<re.Match object; span=(262, 263), match='o'>\n",
      "<re.Match object; span=(263, 264), match='n'>\n",
      "<re.Match object; span=(265, 266), match='M'>\n",
      "<re.Match object; span=(266, 267), match='r'>\n",
      "<re.Match object; span=(269, 270), match='T'>\n"
     ]
    }
   ],
   "source": [
    "# dash matches words starting or ending with a dash\n",
    "# but we can also use it to get a range of values\n",
    "\n",
    "# pattern=re.compile(r'[1-5]')\n",
    "pattern=re.compile(r'[a-zA-Z]')\n",
    "matches = pattern.finditer(text_to_search)\n",
    "for match in matches:\n",
    "    print(match)"
   ]
  },
  {
   "cell_type": "code",
   "execution_count": 34,
   "id": "6c6f8830-23b9-4d54-8547-3d145bc1bcee",
   "metadata": {},
   "outputs": [],
   "source": [
    "# ^ at the beginning, outside a character set, it matches the beginning of a string\n",
    "# Within a character set it negates the character set and matches everything that is not in the character set"
   ]
  },
  {
   "cell_type": "code",
   "execution_count": 35,
   "id": "aee9ab5f-7d6b-42b4-b869-1cf3f5f073cc",
   "metadata": {},
   "outputs": [
    {
     "name": "stdout",
     "output_type": "stream",
     "text": [
      "<re.Match object; span=(0, 1), match='\\n'>\n",
      "<re.Match object; span=(27, 28), match='\\n'>\n",
      "<re.Match object; span=(54, 55), match='\\n'>\n",
      "<re.Match object; span=(55, 56), match='1'>\n",
      "<re.Match object; span=(56, 57), match='2'>\n",
      "<re.Match object; span=(57, 58), match='3'>\n",
      "<re.Match object; span=(58, 59), match='4'>\n",
      "<re.Match object; span=(59, 60), match='5'>\n",
      "<re.Match object; span=(60, 61), match='6'>\n",
      "<re.Match object; span=(61, 62), match='7'>\n",
      "<re.Match object; span=(62, 63), match='8'>\n",
      "<re.Match object; span=(63, 64), match='9'>\n",
      "<re.Match object; span=(64, 65), match='0'>\n",
      "<re.Match object; span=(65, 66), match='\\n'>\n",
      "<re.Match object; span=(66, 67), match='\\n'>\n",
      "<re.Match object; span=(69, 70), match=' '>\n",
      "<re.Match object; span=(74, 75), match='\\n'>\n",
      "<re.Match object; span=(75, 76), match='\\n'>\n",
      "<re.Match object; span=(90, 91), match=' '>\n",
      "<re.Match object; span=(91, 92), match='('>\n",
      "<re.Match object; span=(96, 97), match=' '>\n",
      "<re.Match object; span=(99, 100), match=' '>\n",
      "<re.Match object; span=(102, 103), match=' '>\n",
      "<re.Match object; span=(110, 111), match=')'>\n",
      "<re.Match object; span=(111, 112), match=':'>\n",
      "<re.Match object; span=(112, 113), match='\\n'>\n",
      "<re.Match object; span=(113, 114), match='.'>\n",
      "<re.Match object; span=(114, 115), match=' '>\n",
      "<re.Match object; span=(115, 116), match='^'>\n",
      "<re.Match object; span=(116, 117), match=' '>\n",
      "<re.Match object; span=(117, 118), match='$'>\n",
      "<re.Match object; span=(118, 119), match=' '>\n",
      "<re.Match object; span=(119, 120), match='*'>\n",
      "<re.Match object; span=(120, 121), match=' '>\n",
      "<re.Match object; span=(121, 122), match='+'>\n",
      "<re.Match object; span=(122, 123), match=' '>\n",
      "<re.Match object; span=(123, 124), match='?'>\n",
      "<re.Match object; span=(124, 125), match=' '>\n",
      "<re.Match object; span=(125, 126), match='{'>\n",
      "<re.Match object; span=(126, 127), match=' '>\n",
      "<re.Match object; span=(127, 128), match='}'>\n",
      "<re.Match object; span=(128, 129), match=' '>\n",
      "<re.Match object; span=(129, 130), match='['>\n",
      "<re.Match object; span=(130, 131), match=' '>\n",
      "<re.Match object; span=(131, 132), match=']'>\n",
      "<re.Match object; span=(132, 133), match=' '>\n",
      "<re.Match object; span=(133, 134), match='\\\\'>\n",
      "<re.Match object; span=(134, 135), match=' '>\n",
      "<re.Match object; span=(135, 136), match='|'>\n",
      "<re.Match object; span=(136, 137), match=' '>\n",
      "<re.Match object; span=(137, 138), match='('>\n",
      "<re.Match object; span=(138, 139), match=' '>\n",
      "<re.Match object; span=(139, 140), match=')'>\n",
      "<re.Match object; span=(140, 141), match='\\n'>\n",
      "<re.Match object; span=(141, 142), match='\\n'>\n",
      "<re.Match object; span=(149, 150), match='.'>\n",
      "<re.Match object; span=(153, 154), match='\\n'>\n",
      "<re.Match object; span=(154, 155), match='\\n'>\n",
      "<re.Match object; span=(155, 156), match='3'>\n",
      "<re.Match object; span=(156, 157), match='2'>\n",
      "<re.Match object; span=(157, 158), match='1'>\n",
      "<re.Match object; span=(158, 159), match='-'>\n",
      "<re.Match object; span=(159, 160), match='5'>\n",
      "<re.Match object; span=(160, 161), match='5'>\n",
      "<re.Match object; span=(161, 162), match='5'>\n",
      "<re.Match object; span=(162, 163), match='-'>\n",
      "<re.Match object; span=(163, 164), match='4'>\n",
      "<re.Match object; span=(164, 165), match='3'>\n",
      "<re.Match object; span=(165, 166), match='2'>\n",
      "<re.Match object; span=(166, 167), match='1'>\n",
      "<re.Match object; span=(167, 168), match='\\n'>\n",
      "<re.Match object; span=(168, 169), match='1'>\n",
      "<re.Match object; span=(169, 170), match='2'>\n",
      "<re.Match object; span=(170, 171), match='3'>\n",
      "<re.Match object; span=(171, 172), match='.'>\n",
      "<re.Match object; span=(172, 173), match='5'>\n",
      "<re.Match object; span=(173, 174), match='5'>\n",
      "<re.Match object; span=(174, 175), match='5'>\n",
      "<re.Match object; span=(175, 176), match='.'>\n",
      "<re.Match object; span=(176, 177), match='1'>\n",
      "<re.Match object; span=(177, 178), match='2'>\n",
      "<re.Match object; span=(178, 179), match='3'>\n",
      "<re.Match object; span=(179, 180), match='4'>\n",
      "<re.Match object; span=(180, 181), match='\\n'>\n",
      "<re.Match object; span=(181, 182), match='1'>\n",
      "<re.Match object; span=(182, 183), match='2'>\n",
      "<re.Match object; span=(183, 184), match='3'>\n",
      "<re.Match object; span=(184, 185), match='*'>\n",
      "<re.Match object; span=(185, 186), match='5'>\n",
      "<re.Match object; span=(186, 187), match='5'>\n",
      "<re.Match object; span=(187, 188), match='5'>\n",
      "<re.Match object; span=(188, 189), match='*'>\n",
      "<re.Match object; span=(189, 190), match='1'>\n",
      "<re.Match object; span=(190, 191), match='2'>\n",
      "<re.Match object; span=(191, 192), match='3'>\n",
      "<re.Match object; span=(192, 193), match='4'>\n",
      "<re.Match object; span=(193, 194), match='\\n'>\n",
      "<re.Match object; span=(194, 195), match='8'>\n",
      "<re.Match object; span=(195, 196), match='0'>\n",
      "<re.Match object; span=(196, 197), match='0'>\n",
      "<re.Match object; span=(197, 198), match='-'>\n",
      "<re.Match object; span=(198, 199), match='5'>\n",
      "<re.Match object; span=(199, 200), match='5'>\n",
      "<re.Match object; span=(200, 201), match='5'>\n",
      "<re.Match object; span=(201, 202), match='-'>\n",
      "<re.Match object; span=(202, 203), match='1'>\n",
      "<re.Match object; span=(203, 204), match='2'>\n",
      "<re.Match object; span=(204, 205), match='3'>\n",
      "<re.Match object; span=(205, 206), match='4'>\n",
      "<re.Match object; span=(206, 207), match='\\n'>\n",
      "<re.Match object; span=(207, 208), match='9'>\n",
      "<re.Match object; span=(208, 209), match='0'>\n",
      "<re.Match object; span=(209, 210), match='0'>\n",
      "<re.Match object; span=(210, 211), match='-'>\n",
      "<re.Match object; span=(211, 212), match='5'>\n",
      "<re.Match object; span=(212, 213), match='5'>\n",
      "<re.Match object; span=(213, 214), match='5'>\n",
      "<re.Match object; span=(214, 215), match='-'>\n",
      "<re.Match object; span=(215, 216), match='1'>\n",
      "<re.Match object; span=(216, 217), match='2'>\n",
      "<re.Match object; span=(217, 218), match='3'>\n",
      "<re.Match object; span=(218, 219), match='4'>\n",
      "<re.Match object; span=(219, 220), match='\\n'>\n",
      "<re.Match object; span=(220, 221), match='\\n'>\n",
      "<re.Match object; span=(223, 224), match='.'>\n",
      "<re.Match object; span=(224, 225), match=' '>\n",
      "<re.Match object; span=(232, 233), match='\\n'>\n",
      "<re.Match object; span=(235, 236), match=' '>\n",
      "<re.Match object; span=(241, 242), match='\\n'>\n",
      "<re.Match object; span=(244, 245), match=' '>\n",
      "<re.Match object; span=(250, 251), match='\\n'>\n",
      "<re.Match object; span=(254, 255), match='.'>\n",
      "<re.Match object; span=(255, 256), match=' '>\n",
      "<re.Match object; span=(264, 265), match='\\n'>\n",
      "<re.Match object; span=(267, 268), match='.'>\n",
      "<re.Match object; span=(268, 269), match=' '>\n",
      "<re.Match object; span=(270, 271), match='\\n'>\n"
     ]
    }
   ],
   "source": [
    "# To match everything that is not a lowercase or uppercase letter\n",
    "pattern = re.compile(r\"[^a-zA-Z]\")\n",
    "matches = pattern.finditer(text_to_search)\n",
    "for match in matches:\n",
    "    print(match)"
   ]
  },
  {
   "cell_type": "code",
   "execution_count": 38,
   "id": "b1aa0aab-5206-45c9-8f8c-6d7ae2837884",
   "metadata": {},
   "outputs": [
    {
     "name": "stdout",
     "output_type": "stream",
     "text": [
      "<re.Match object; span=(221, 224), match='cat'>\n",
      "<re.Match object; span=(225, 228), match='mat'>\n",
      "<re.Match object; span=(233, 236), match='pat'>\n"
     ]
    }
   ],
   "source": [
    "# We want to match patterns that doesn't start with b but ends in 'at'\n",
    "pattern = re.compile(r\"[^b]at\")\n",
    "matches = pattern.finditer(text_to_search)\n",
    "for match in matches:\n",
    "    print(match)"
   ]
  },
  {
   "cell_type": "code",
   "execution_count": 40,
   "id": "b7909ef4-8741-4bff-a58c-f4ac11ac67cc",
   "metadata": {},
   "outputs": [
    {
     "name": "stdout",
     "output_type": "stream",
     "text": [
      "<re.Match object; span=(155, 167), match='321-555-4321'>\n",
      "<re.Match object; span=(168, 180), match='123.555.1234'>\n",
      "<re.Match object; span=(181, 193), match='123*555*1234'>\n",
      "<re.Match object; span=(194, 206), match='800-555-1234'>\n",
      "<re.Match object; span=(207, 219), match='900-555-1234'>\n"
     ]
    }
   ],
   "source": [
    "# Quantifiers are used to match more than one characters at once\n",
    "pattern = re.compile(r\"\\d{3}.\\d{3}.\\d{4}\")\n",
    "matches = pattern.finditer(text_to_search)\n",
    "for match in matches:\n",
    "    print(match)"
   ]
  },
  {
   "cell_type": "code",
   "execution_count": 41,
   "id": "8fb16a07-c5f5-4c1c-ae6f-3dc57c49978e",
   "metadata": {},
   "outputs": [
    {
     "name": "stdout",
     "output_type": "stream",
     "text": [
      "<re.Match object; span=(238, 241), match='Mr.'>\n",
      "<re.Match object; span=(282, 285), match='Mr.'>\n"
     ]
    }
   ],
   "source": [
    "pattern = re.compile(r\"Mr\\.\")\n",
    "matches = pattern.finditer(text_to_search)\n",
    "for match in matches:\n",
    "    print(match)"
   ]
  },
  {
   "cell_type": "code",
   "execution_count": 42,
   "id": "f4a62bab-f454-41de-9736-e28630e7f949",
   "metadata": {},
   "outputs": [
    {
     "name": "stdout",
     "output_type": "stream",
     "text": [
      "<re.Match object; span=(238, 241), match='Mr.'>\n",
      "<re.Match object; span=(250, 252), match='Mr'>\n",
      "<re.Match object; span=(268, 270), match='Mr'>\n",
      "<re.Match object; span=(282, 285), match='Mr.'>\n"
     ]
    }
   ],
   "source": [
    "# ? quantifier tells our pattern that we want to match 0 or 1 of those characters\n",
    "pattern = re.compile(r\"Mr\\.?\")\n",
    "matches = pattern.finditer(text_to_search)\n",
    "for match in matches:\n",
    "    print(match)"
   ]
  },
  {
   "cell_type": "code",
   "execution_count": 45,
   "id": "77f3c87b-41ad-4f52-875c-bf3263463d42",
   "metadata": {},
   "outputs": [
    {
     "name": "stdout",
     "output_type": "stream",
     "text": [
      "<re.Match object; span=(238, 244), match='Mr. Sc'>\n",
      "<re.Match object; span=(250, 255), match='Mr Sm'>\n",
      "<re.Match object; span=(282, 287), match='Mr. T'>\n"
     ]
    }
   ],
   "source": [
    "# ? quantifier tells our pattern that we want to match 0 or 1 of those characters\n",
    "pattern = re.compile(r\"Mr\\.?\\s[A-Z]\\w?\")\n",
    "matches = pattern.finditer(text_to_search)\n",
    "for match in matches:\n",
    "    print(match)"
   ]
  },
  {
   "cell_type": "code",
   "execution_count": 47,
   "id": "bccf2b70-aaf1-4fa4-acba-a816ba7e8332",
   "metadata": {},
   "outputs": [
    {
     "name": "stdout",
     "output_type": "stream",
     "text": [
      "<re.Match object; span=(238, 249), match='Mr. Schafer'>\n",
      "<re.Match object; span=(250, 258), match='Mr Smith'>\n",
      "<re.Match object; span=(282, 287), match='Mr. T'>\n"
     ]
    }
   ],
   "source": [
    "# ? quantifier tells our pattern that we want to match 0 or 1 of those characters\n",
    "pattern = re.compile(r\"Mr\\.?\\s[A-Z]\\w*\") # Using * at the end instead of ?\n",
    "matches = pattern.finditer(text_to_search)\n",
    "for match in matches:\n",
    "    print(match)"
   ]
  },
  {
   "cell_type": "code",
   "execution_count": 48,
   "id": "8a06fed3-c976-41f5-816c-30279837d7cc",
   "metadata": {},
   "outputs": [
    {
     "name": "stdout",
     "output_type": "stream",
     "text": [
      "<re.Match object; span=(238, 249), match='Mr. Schafer'>\n",
      "<re.Match object; span=(250, 258), match='Mr Smith'>\n",
      "<re.Match object; span=(259, 267), match='Ms Davis'>\n",
      "<re.Match object; span=(268, 281), match='Mrs. Robinson'>\n",
      "<re.Match object; span=(282, 287), match='Mr. T'>\n"
     ]
    }
   ],
   "source": [
    "# Using groups\n",
    "# For creating groups we need to use parenthesis\n",
    "pattern = re.compile(r\"M(r|s|rs)\\.?\\s[A-Z]\\w*\")\n",
    "matches = pattern.finditer(text_to_search)\n",
    "for match in matches:\n",
    "    print(match)\n"
   ]
  },
  {
   "cell_type": "code",
   "execution_count": null,
   "id": "60ecd686-c2a1-499c-809b-1e742ecdfb37",
   "metadata": {},
   "outputs": [],
   "source": []
  }
 ],
 "metadata": {
  "kernelspec": {
   "display_name": "Python 3 (ipykernel)",
   "language": "python",
   "name": "python3"
  },
  "language_info": {
   "codemirror_mode": {
    "name": "ipython",
    "version": 3
   },
   "file_extension": ".py",
   "mimetype": "text/x-python",
   "name": "python",
   "nbconvert_exporter": "python",
   "pygments_lexer": "ipython3",
   "version": "3.10.9"
  }
 },
 "nbformat": 4,
 "nbformat_minor": 5
}
