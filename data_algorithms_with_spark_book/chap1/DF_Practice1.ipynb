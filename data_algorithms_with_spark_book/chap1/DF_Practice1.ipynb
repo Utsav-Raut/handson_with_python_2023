{
 "cells": [
  {
   "cell_type": "code",
   "execution_count": 1,
   "id": "82e38118-6b1f-42e5-be45-6c8c13d50d1d",
   "metadata": {},
   "outputs": [],
   "source": [
    "import findspark\n",
    "findspark.init()\n",
    "\n",
    "from pyspark.sql import SparkSession\n",
    "from pyspark.sql.functions import sum, avg"
   ]
  },
  {
   "cell_type": "code",
   "execution_count": 2,
   "id": "a79982ce-ebbf-46c9-8324-651beeed12fa",
   "metadata": {},
   "outputs": [],
   "source": [
    "spark = SparkSession  \\\n",
    "        .builder  \\\n",
    "        .appName('DF1')  \\\n",
    "        .getOrCreate()"
   ]
  },
  {
   "cell_type": "code",
   "execution_count": 3,
   "id": "6801bf90-608a-4854-b922-1ee8f991204c",
   "metadata": {},
   "outputs": [
    {
     "name": "stdout",
     "output_type": "stream",
     "text": [
      "+-----+----+-----+\n",
      "| dept|name|hours|\n",
      "+-----+----+-----+\n",
      "|Sales|Barb|   40|\n",
      "|Sales| Dan|   20|\n",
      "|   IT|Alex|   22|\n",
      "|   IT|Jane|   24|\n",
      "|   HR|Alex|   20|\n",
      "|   HR|Mary|   30|\n",
      "+-----+----+-----+\n",
      "\n"
     ]
    }
   ],
   "source": [
    "data_emps = [(\"Sales\", \"Barb\", 40), (\"Sales\", \"Dan\", 20),\n",
    "(\"IT\", \"Alex\", 22), (\"IT\", \"Jane\", 24),\n",
    "(\"HR\", \"Alex\", 20), (\"HR\", \"Mary\", 30)]\n",
    "\n",
    "cols = [\"dept\", \"name\", \"hours\"]\n",
    "\n",
    "df = spark.createDataFrame(data_emps, cols)\n",
    "df.show()"
   ]
  },
  {
   "cell_type": "code",
   "execution_count": 4,
   "id": "06057d0b-e049-451c-95a8-2fd0ef9214dc",
   "metadata": {},
   "outputs": [
    {
     "name": "stdout",
     "output_type": "stream",
     "text": [
      "+-----+-------+-----+\n",
      "| dept|average|total|\n",
      "+-----+-------+-----+\n",
      "|Sales|   30.0|   60|\n",
      "|   HR|   25.0|   50|\n",
      "|   IT|   23.0|   46|\n",
      "+-----+-------+-----+\n",
      "\n"
     ]
    }
   ],
   "source": [
    "averages = df.groupBy(\"dept\")  \\\n",
    "            .agg(avg(\"hours\").alias('average'),  \\\n",
    "            sum(\"hours\").alias(\"total\"))\n",
    "\n",
    "averages.show()"
   ]
  },
  {
   "cell_type": "code",
   "execution_count": 6,
   "id": "d9fe8a27-4e11-405b-be23-b9c968a19b07",
   "metadata": {},
   "outputs": [],
   "source": [
    "# pg 26"
   ]
  },
  {
   "cell_type": "code",
   "execution_count": null,
   "id": "f789b146-7ed6-4811-ab0d-a90428bfa7a2",
   "metadata": {},
   "outputs": [],
   "source": []
  }
 ],
 "metadata": {
  "kernelspec": {
   "display_name": "Python 3 (ipykernel)",
   "language": "python",
   "name": "python3"
  },
  "language_info": {
   "codemirror_mode": {
    "name": "ipython",
    "version": 3
   },
   "file_extension": ".py",
   "mimetype": "text/x-python",
   "name": "python",
   "nbconvert_exporter": "python",
   "pygments_lexer": "ipython3",
   "version": "3.10.9"
  }
 },
 "nbformat": 4,
 "nbformat_minor": 5
}
