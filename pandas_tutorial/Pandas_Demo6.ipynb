{
 "cells": [
  {
   "cell_type": "code",
   "execution_count": 1,
   "id": "11f63d2b-1d73-48e6-b858-364450de54d5",
   "metadata": {},
   "outputs": [],
   "source": [
    "# No code here"
   ]
  },
  {
   "cell_type": "code",
   "execution_count": null,
   "id": "188a40ec-9dc5-427d-a303-822ca796e850",
   "metadata": {},
   "outputs": [],
   "source": []
  }
 ],
 "metadata": {
  "kernelspec": {
   "display_name": "Python 3 (ipykernel)",
   "language": "python",
   "name": "python3"
  },
  "language_info": {
   "codemirror_mode": {
    "name": "ipython",
    "version": 3
   },
   "file_extension": ".py",
   "mimetype": "text/x-python",
   "name": "python",
   "nbconvert_exporter": "python",
   "pygments_lexer": "ipython3",
   "version": "3.10.9"
  }
 },
 "nbformat": 4,
 "nbformat_minor": 5
}
