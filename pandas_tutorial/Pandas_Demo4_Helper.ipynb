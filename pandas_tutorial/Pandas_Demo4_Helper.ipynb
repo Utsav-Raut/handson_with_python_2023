{
 "cells": [
  {
   "cell_type": "code",
   "execution_count": 1,
   "id": "a9ae5ef4-597e-4bb9-b586-53dc486bca5b",
   "metadata": {},
   "outputs": [],
   "source": [
    "people = {\n",
    "    \"first\": ['Corey', 'Jane', 'John'],\n",
    "    \"last\": ['Schafer', 'Doe', 'Doe'],\n",
    "    \"email\": ['CoreyMSchafer@gmail.com', 'JaneDoe@email.com', 'JohnDoe@email.com']\n",
    "}"
   ]
  },
  {
   "cell_type": "code",
   "execution_count": 2,
   "id": "21b55be6-867e-4e61-8046-87c9821fbed3",
   "metadata": {},
   "outputs": [],
   "source": [
    "import pandas as pd"
   ]
  },
  {
   "cell_type": "code",
   "execution_count": 3,
   "id": "96cab133-2042-4a6d-b0ef-c3c92e1f09f2",
   "metadata": {},
   "outputs": [],
   "source": [
    "df = pd.DataFrame(people)"
   ]
  },
  {
   "cell_type": "code",
   "execution_count": 4,
   "id": "95f852a4-2924-4901-b027-323302073737",
   "metadata": {},
   "outputs": [
    {
     "data": {
      "text/html": [
       "<div>\n",
       "<style scoped>\n",
       "    .dataframe tbody tr th:only-of-type {\n",
       "        vertical-align: middle;\n",
       "    }\n",
       "\n",
       "    .dataframe tbody tr th {\n",
       "        vertical-align: top;\n",
       "    }\n",
       "\n",
       "    .dataframe thead th {\n",
       "        text-align: right;\n",
       "    }\n",
       "</style>\n",
       "<table border=\"1\" class=\"dataframe\">\n",
       "  <thead>\n",
       "    <tr style=\"text-align: right;\">\n",
       "      <th></th>\n",
       "      <th>first</th>\n",
       "      <th>last</th>\n",
       "      <th>email</th>\n",
       "    </tr>\n",
       "  </thead>\n",
       "  <tbody>\n",
       "    <tr>\n",
       "      <th>0</th>\n",
       "      <td>Corey</td>\n",
       "      <td>Schafer</td>\n",
       "      <td>CoreyMSchafer@gmail.com</td>\n",
       "    </tr>\n",
       "    <tr>\n",
       "      <th>1</th>\n",
       "      <td>Jane</td>\n",
       "      <td>Doe</td>\n",
       "      <td>JaneDoe@email.com</td>\n",
       "    </tr>\n",
       "    <tr>\n",
       "      <th>2</th>\n",
       "      <td>John</td>\n",
       "      <td>Doe</td>\n",
       "      <td>JohnDoe@email.com</td>\n",
       "    </tr>\n",
       "  </tbody>\n",
       "</table>\n",
       "</div>"
      ],
      "text/plain": [
       "   first     last                    email\n",
       "0  Corey  Schafer  CoreyMSchafer@gmail.com\n",
       "1   Jane      Doe        JaneDoe@email.com\n",
       "2   John      Doe        JohnDoe@email.com"
      ]
     },
     "execution_count": 4,
     "metadata": {},
     "output_type": "execute_result"
    }
   ],
   "source": [
    "df"
   ]
  },
  {
   "cell_type": "code",
   "execution_count": 5,
   "id": "f80c87e8-ab42-4e33-abf3-93268968c10d",
   "metadata": {},
   "outputs": [
    {
     "data": {
      "text/plain": [
       "0    False\n",
       "1     True\n",
       "2     True\n",
       "Name: last, dtype: bool"
      ]
     },
     "execution_count": 5,
     "metadata": {},
     "output_type": "execute_result"
    }
   ],
   "source": [
    "df['last'] == 'Doe'"
   ]
  },
  {
   "cell_type": "code",
   "execution_count": 6,
   "id": "90d13c0a-6c6c-454a-b01b-dbf25f74acab",
   "metadata": {},
   "outputs": [],
   "source": [
    "filt = (df['last'] == 'Doe')"
   ]
  },
  {
   "cell_type": "code",
   "execution_count": 8,
   "id": "6c0bad96-1c41-45db-9250-de523f005115",
   "metadata": {},
   "outputs": [
    {
     "data": {
      "text/html": [
       "<div>\n",
       "<style scoped>\n",
       "    .dataframe tbody tr th:only-of-type {\n",
       "        vertical-align: middle;\n",
       "    }\n",
       "\n",
       "    .dataframe tbody tr th {\n",
       "        vertical-align: top;\n",
       "    }\n",
       "\n",
       "    .dataframe thead th {\n",
       "        text-align: right;\n",
       "    }\n",
       "</style>\n",
       "<table border=\"1\" class=\"dataframe\">\n",
       "  <thead>\n",
       "    <tr style=\"text-align: right;\">\n",
       "      <th></th>\n",
       "      <th>first</th>\n",
       "      <th>last</th>\n",
       "      <th>email</th>\n",
       "    </tr>\n",
       "  </thead>\n",
       "  <tbody>\n",
       "    <tr>\n",
       "      <th>1</th>\n",
       "      <td>Jane</td>\n",
       "      <td>Doe</td>\n",
       "      <td>JaneDoe@email.com</td>\n",
       "    </tr>\n",
       "    <tr>\n",
       "      <th>2</th>\n",
       "      <td>John</td>\n",
       "      <td>Doe</td>\n",
       "      <td>JohnDoe@email.com</td>\n",
       "    </tr>\n",
       "  </tbody>\n",
       "</table>\n",
       "</div>"
      ],
      "text/plain": [
       "  first last              email\n",
       "1  Jane  Doe  JaneDoe@email.com\n",
       "2  John  Doe  JohnDoe@email.com"
      ]
     },
     "execution_count": 8,
     "metadata": {},
     "output_type": "execute_result"
    }
   ],
   "source": [
    "# Method 1 to use the above filter:\n",
    "df[filt]"
   ]
  },
  {
   "cell_type": "code",
   "execution_count": 9,
   "id": "fc1263d5-579a-4729-8a55-dec1ee104465",
   "metadata": {},
   "outputs": [
    {
     "data": {
      "text/html": [
       "<div>\n",
       "<style scoped>\n",
       "    .dataframe tbody tr th:only-of-type {\n",
       "        vertical-align: middle;\n",
       "    }\n",
       "\n",
       "    .dataframe tbody tr th {\n",
       "        vertical-align: top;\n",
       "    }\n",
       "\n",
       "    .dataframe thead th {\n",
       "        text-align: right;\n",
       "    }\n",
       "</style>\n",
       "<table border=\"1\" class=\"dataframe\">\n",
       "  <thead>\n",
       "    <tr style=\"text-align: right;\">\n",
       "      <th></th>\n",
       "      <th>first</th>\n",
       "      <th>last</th>\n",
       "      <th>email</th>\n",
       "    </tr>\n",
       "  </thead>\n",
       "  <tbody>\n",
       "    <tr>\n",
       "      <th>1</th>\n",
       "      <td>Jane</td>\n",
       "      <td>Doe</td>\n",
       "      <td>JaneDoe@email.com</td>\n",
       "    </tr>\n",
       "    <tr>\n",
       "      <th>2</th>\n",
       "      <td>John</td>\n",
       "      <td>Doe</td>\n",
       "      <td>JohnDoe@email.com</td>\n",
       "    </tr>\n",
       "  </tbody>\n",
       "</table>\n",
       "</div>"
      ],
      "text/plain": [
       "  first last              email\n",
       "1  Jane  Doe  JaneDoe@email.com\n",
       "2  John  Doe  JohnDoe@email.com"
      ]
     },
     "execution_count": 9,
     "metadata": {},
     "output_type": "execute_result"
    }
   ],
   "source": [
    "# Method 2 to apply the filter\n",
    "df[df['last'] == 'Doe']"
   ]
  },
  {
   "cell_type": "code",
   "execution_count": 10,
   "id": "51971d9e-b805-440c-9457-b63ed43fbca3",
   "metadata": {},
   "outputs": [
    {
     "data": {
      "text/html": [
       "<div>\n",
       "<style scoped>\n",
       "    .dataframe tbody tr th:only-of-type {\n",
       "        vertical-align: middle;\n",
       "    }\n",
       "\n",
       "    .dataframe tbody tr th {\n",
       "        vertical-align: top;\n",
       "    }\n",
       "\n",
       "    .dataframe thead th {\n",
       "        text-align: right;\n",
       "    }\n",
       "</style>\n",
       "<table border=\"1\" class=\"dataframe\">\n",
       "  <thead>\n",
       "    <tr style=\"text-align: right;\">\n",
       "      <th></th>\n",
       "      <th>first</th>\n",
       "      <th>last</th>\n",
       "      <th>email</th>\n",
       "    </tr>\n",
       "  </thead>\n",
       "  <tbody>\n",
       "    <tr>\n",
       "      <th>1</th>\n",
       "      <td>Jane</td>\n",
       "      <td>Doe</td>\n",
       "      <td>JaneDoe@email.com</td>\n",
       "    </tr>\n",
       "    <tr>\n",
       "      <th>2</th>\n",
       "      <td>John</td>\n",
       "      <td>Doe</td>\n",
       "      <td>JohnDoe@email.com</td>\n",
       "    </tr>\n",
       "  </tbody>\n",
       "</table>\n",
       "</div>"
      ],
      "text/plain": [
       "  first last              email\n",
       "1  Jane  Doe  JaneDoe@email.com\n",
       "2  John  Doe  JohnDoe@email.com"
      ]
     },
     "execution_count": 10,
     "metadata": {},
     "output_type": "execute_result"
    }
   ],
   "source": [
    "# Method 3\n",
    "df.loc[filt]"
   ]
  },
  {
   "cell_type": "code",
   "execution_count": 11,
   "id": "3aa4ffbb-f87c-4c6d-bf70-e11f02588f5f",
   "metadata": {},
   "outputs": [
    {
     "data": {
      "text/plain": [
       "1    JaneDoe@email.com\n",
       "2    JohnDoe@email.com\n",
       "Name: email, dtype: object"
      ]
     },
     "execution_count": 11,
     "metadata": {},
     "output_type": "execute_result"
    }
   ],
   "source": [
    "# .loc is used lookup rows and columns by labels, but if we pass\n",
    "# a Series of booleans (as we did here), we can also filter the data out\n",
    "\n",
    "# We can further filter out a column out of the above while using .loc\n",
    "\n",
    "df.loc[filt].email"
   ]
  },
  {
   "cell_type": "code",
   "execution_count": 14,
   "id": "ce45e273-af34-47e2-8ed5-ec7c718f4993",
   "metadata": {},
   "outputs": [
    {
     "data": {
      "text/plain": [
       "1    JaneDoe@email.com\n",
       "2    JohnDoe@email.com\n",
       "Name: email, dtype: object"
      ]
     },
     "execution_count": 14,
     "metadata": {},
     "output_type": "execute_result"
    }
   ],
   "source": [
    "# Diff syntax to filter a col using .loc\n",
    "df.loc[filt, 'email']"
   ]
  },
  {
   "cell_type": "code",
   "execution_count": 15,
   "id": "d6c3a430-47b5-4066-868b-74a4bdda755a",
   "metadata": {},
   "outputs": [],
   "source": [
    "# New filter\n",
    "new_filt = (df['last'] == 'Doe') & (df['first'] == 'John')"
   ]
  },
  {
   "cell_type": "code",
   "execution_count": 17,
   "id": "48344177-4384-4009-9bfb-651dae0a41fd",
   "metadata": {},
   "outputs": [
    {
     "data": {
      "text/plain": [
       "2    JohnDoe@email.com\n",
       "Name: email, dtype: object"
      ]
     },
     "execution_count": 17,
     "metadata": {},
     "output_type": "execute_result"
    }
   ],
   "source": [
    "df.loc[new_filt, 'email']"
   ]
  },
  {
   "cell_type": "code",
   "execution_count": 18,
   "id": "3de5b50d-7c01-440a-811e-693948285a90",
   "metadata": {},
   "outputs": [],
   "source": [
    "# Another new filter\n",
    "another_new_filt = (df['last'] == 'Schafer') | (df['first'] == 'John')"
   ]
  },
  {
   "cell_type": "code",
   "execution_count": 19,
   "id": "5b277db3-e769-47a3-9913-6688832b2efc",
   "metadata": {},
   "outputs": [
    {
     "data": {
      "text/plain": [
       "0    CoreyMSchafer@gmail.com\n",
       "2          JohnDoe@email.com\n",
       "Name: email, dtype: object"
      ]
     },
     "execution_count": 19,
     "metadata": {},
     "output_type": "execute_result"
    }
   ],
   "source": [
    "df.loc[another_new_filt, 'email']"
   ]
  },
  {
   "cell_type": "code",
   "execution_count": 20,
   "id": "3e23f887-2a88-4ae6-8a7d-dd168f3e541b",
   "metadata": {},
   "outputs": [
    {
     "data": {
      "text/plain": [
       "1    JaneDoe@email.com\n",
       "Name: email, dtype: object"
      ]
     },
     "execution_count": 20,
     "metadata": {},
     "output_type": "execute_result"
    }
   ],
   "source": [
    "# Opposite of a filter\n",
    "\n",
    "df.loc[~another_new_filt, 'email']"
   ]
  },
  {
   "cell_type": "code",
   "execution_count": null,
   "id": "2d8d28a6-b1a5-46dd-8384-8d426218b9e5",
   "metadata": {},
   "outputs": [],
   "source": []
  }
 ],
 "metadata": {
  "kernelspec": {
   "display_name": "Python 3 (ipykernel)",
   "language": "python",
   "name": "python3"
  },
  "language_info": {
   "codemirror_mode": {
    "name": "ipython",
    "version": 3
   },
   "file_extension": ".py",
   "mimetype": "text/x-python",
   "name": "python",
   "nbconvert_exporter": "python",
   "pygments_lexer": "ipython3",
   "version": "3.10.9"
  }
 },
 "nbformat": 4,
 "nbformat_minor": 5
}
